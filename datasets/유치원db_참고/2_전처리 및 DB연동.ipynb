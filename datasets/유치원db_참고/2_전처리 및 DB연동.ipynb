{
 "cells": [
  {
   "cell_type": "markdown",
   "metadata": {},
   "source": [
    "## 전처리"
   ]
  },
  {
   "cell_type": "code",
   "execution_count": 1,
   "metadata": {},
   "outputs": [
    {
     "name": "stdout",
     "output_type": "stream",
     "text": [
      "<class 'pandas.core.frame.DataFrame'>\n",
      "RangeIndex: 415868 entries, 0 to 415867\n",
      "Data columns (total 23 columns):\n",
      " #   Column    Non-Null Count   Dtype  \n",
      "---  ------    --------------   -----  \n",
      " 0   시도        415868 non-null  object \n",
      " 1   시군구       415868 non-null  object \n",
      " 2   어린이집명     415868 non-null  object \n",
      " 3   어린이집유형    415868 non-null  object \n",
      " 4   운영현황      415755 non-null  object \n",
      " 5   우편번호      415868 non-null  int64  \n",
      " 6   주소        415868 non-null  object \n",
      " 7   전화번호      415868 non-null  object \n",
      " 8   팩스번호      415868 non-null  object \n",
      " 9   보육실수      415868 non-null  int64  \n",
      " 10  보육실면적     415868 non-null  int64  \n",
      " 11  놀이터수      415868 non-null  int64  \n",
      " 12  보육교직원수    415868 non-null  int64  \n",
      " 13  정원        415868 non-null  int64  \n",
      " 14  현원        415868 non-null  int64  \n",
      " 15  위도        385696 non-null  float64\n",
      " 16  경도        385696 non-null  float64\n",
      " 17  통학차량운영여부  377482 non-null  object \n",
      " 18  홈페이지주소    115924 non-null  object \n",
      " 19  인가일자      415052 non-null  object \n",
      " 20  휴지시작일자    9066 non-null    object \n",
      " 21  휴지종료일자    8534 non-null    object \n",
      " 22  폐지일자      117476 non-null  object \n",
      "dtypes: float64(2), int64(7), object(14)\n",
      "memory usage: 73.0+ MB\n"
     ]
    }
   ],
   "source": [
    "import pandas as pd\n",
    "df = pd.read_csv('E:/BD_Class/BD_Class/Project/4차/어린이집_전체.csv', index_col=False)\n",
    "df = df.iloc[:,1:24]\n",
    "df.info()"
   ]
  },
  {
   "cell_type": "code",
   "execution_count": 2,
   "metadata": {},
   "outputs": [
    {
     "name": "stdout",
     "output_type": "stream",
     "text": [
      "<class 'pandas.core.frame.DataFrame'>\n",
      "RangeIndex: 415868 entries, 0 to 415867\n",
      "Data columns (total 23 columns):\n",
      " #   Column      Non-Null Count   Dtype  \n",
      "---  ------      --------------   -----  \n",
      " 0   sido        415868 non-null  object \n",
      " 1   sigungu     415868 non-null  object \n",
      " 2   name        415868 non-null  object \n",
      " 3   ty_pe       415868 non-null  object \n",
      " 4   ops         415755 non-null  object \n",
      " 5   post        415868 non-null  int64  \n",
      " 6   adr         415868 non-null  object \n",
      " 7   phone       415868 non-null  object \n",
      " 8   fax         415868 non-null  object \n",
      " 9   rooms       415868 non-null  int64  \n",
      " 10  sqm         415868 non-null  int64  \n",
      " 11  playground  415868 non-null  int64  \n",
      " 12  teachers    415868 non-null  int64  \n",
      " 13  no_capa     415868 non-null  int64  \n",
      " 14  no_enroll   415868 non-null  int64  \n",
      " 15  lng         385696 non-null  float64\n",
      " 16  lon         385696 non-null  float64\n",
      " 17  bus         377482 non-null  object \n",
      " 18  web         115924 non-null  object \n",
      " 19  s_d         415052 non-null  object \n",
      " 20  brk_s_d     9066 non-null    object \n",
      " 21  brk_e_d     8534 non-null    object \n",
      " 22  e_d         117476 non-null  object \n",
      "dtypes: float64(2), int64(7), object(14)\n",
      "memory usage: 73.0+ MB\n"
     ]
    }
   ],
   "source": [
    "cls = ['sido', 'sigungu', 'name', 'ty_pe', 'ops', 'post', 'adr', 'phone', 'fax', 'rooms', 'sqm', 'playground',\n",
    " 'teachers', 'no_capa', 'no_enroll', 'lng', 'lon', 'bus', 'web', 's_d', 'brk_s_d', 'brk_e_d', 'e_d']\n",
    "df.columns = cls # db 변환 위해 컬럼명 영어로 변경\n",
    "df.info()"
   ]
  },
  {
   "cell_type": "code",
   "execution_count": 6,
   "metadata": {},
   "outputs": [
    {
     "name": "stdout",
     "output_type": "stream",
     "text": [
      "<class 'pandas.core.frame.DataFrame'>\n",
      "RangeIndex: 415868 entries, 0 to 415867\n",
      "Data columns (total 23 columns):\n",
      " #   Column      Non-Null Count   Dtype  \n",
      "---  ------      --------------   -----  \n",
      " 0   sido        415868 non-null  object \n",
      " 1   sigungu     415868 non-null  object \n",
      " 2   name        415868 non-null  object \n",
      " 3   ty_pe       415868 non-null  object \n",
      " 4   ops         415755 non-null  object \n",
      " 5   post        415868 non-null  int64  \n",
      " 6   adr         415868 non-null  object \n",
      " 7   phone       415868 non-null  object \n",
      " 8   fax         415868 non-null  object \n",
      " 9   rooms       415868 non-null  int64  \n",
      " 10  sqm         415868 non-null  int64  \n",
      " 11  playground  415868 non-null  int64  \n",
      " 12  teachers    415868 non-null  int64  \n",
      " 13  no_capa     415868 non-null  int64  \n",
      " 14  no_enroll   415868 non-null  int64  \n",
      " 15  lng         385696 non-null  float64\n",
      " 16  lon         385696 non-null  float64\n",
      " 17  bus         377482 non-null  object \n",
      " 18  web         115924 non-null  object \n",
      " 19  s_d         415052 non-null  object \n",
      " 20  brk_s_d     9066 non-null    object \n",
      " 21  brk_e_d     8534 non-null    object \n",
      " 22  e_d         117476 non-null  object \n",
      "dtypes: float64(2), int64(7), object(14)\n",
      "memory usage: 73.0+ MB\n"
     ]
    }
   ],
   "source": [
    "# cls = ['sido', 'sigungu','dong', 'name', 'ty_pe', 'ops', 'post', 'adr', 'phone', 'fax', 'rooms', 'sqm', 'playground',\n",
    "#  'teachers', 'no_capa', 'no_enroll', 'lng', 'lon', 'bus', 'web', 's_d', 'brk_s_d', 'brk_e_d', 'e_d','ops_day']\n",
    "cls = ['sido', 'sigungu', 'name', 'ty_pe', 'ops', 'post', 'adr', 'phone', 'fax', 'rooms', 'sqm', 'playground',\n",
    " 'teachers', 'no_capa', 'no_enroll', 'lng', 'lon', 'bus', 'web', 's_d', 'brk_s_d', 'brk_e_d', 'e_d']\n",
    "df.columns = cls # db 변환 위해 컬럼명 영어로 변경\n",
    "df.info()"
   ]
  },
  {
   "cell_type": "code",
   "execution_count": 7,
   "metadata": {},
   "outputs": [
    {
     "name": "stderr",
     "output_type": "stream",
     "text": [
      "C:\\Users\\tjoeun\\anaconda3\\lib\\site-packages\\IPython\\core\\interactiveshell.py:3063: DtypeWarning: Columns (17,18) have mixed types.Specify dtype option on import or set low_memory=False.\n",
      "  interactivity=interactivity, compiler=compiler, result=result)\n"
     ]
    },
    {
     "name": "stdout",
     "output_type": "stream",
     "text": [
      "<class 'pandas.core.frame.DataFrame'>\n",
      "RangeIndex: 415868 entries, 0 to 415867\n",
      "Data columns (total 25 columns):\n",
      " #   Column      Non-Null Count   Dtype \n",
      "---  ------      --------------   ----- \n",
      " 0   sido        415868 non-null  object\n",
      " 1   sigungu     415868 non-null  object\n",
      " 2   dong        395785 non-null  object\n",
      " 3   name        415868 non-null  object\n",
      " 4   ty_pe       415868 non-null  object\n",
      " 5   ops         415868 non-null  object\n",
      " 6   post        415868 non-null  int64 \n",
      " 7   adr         415868 non-null  object\n",
      " 8   phone       415868 non-null  object\n",
      " 9   fax         415868 non-null  object\n",
      " 10  rooms       415868 non-null  int64 \n",
      " 11  sqm         415868 non-null  int64 \n",
      " 12  playground  415868 non-null  int64 \n",
      " 13  teachers    415868 non-null  int64 \n",
      " 14  no_capa     415868 non-null  int64 \n",
      " 15  no_enroll   415868 non-null  int64 \n",
      " 16  lng         407076 non-null  object\n",
      " 17  lon         407076 non-null  object\n",
      " 18  bus         377482 non-null  object\n",
      " 19  web         115924 non-null  object\n",
      " 20  s_d         415052 non-null  object\n",
      " 21  brk_s_d     9066 non-null    object\n",
      " 22  brk_e_d     8534 non-null    object\n",
      " 23  e_d         117476 non-null  object\n",
      " 24  ops_day     415868 non-null  object\n",
      "dtypes: int64(7), object(18)\n",
      "memory usage: 79.3+ MB\n"
     ]
    }
   ],
   "source": [
    "import pandas as pd\n",
    "df = pd.read_csv(r'C:\\Users\\tjoeun\\Desktop\\0925\\어린이집_전체_수식제거.csv', index_col=False, encoding = 'ansi')\n",
    "df = df.iloc[:,1:]\n",
    "cls = ['sido', 'sigungu','dong', 'name', 'ty_pe', 'ops', 'post', 'adr', 'phone', 'fax', 'rooms', 'sqm', 'playground',\n",
    " 'teachers', 'no_capa', 'no_enroll', 'lng', 'lon', 'bus', 'web', 's_d', 'brk_s_d', 'brk_e_d', 'e_d','ops_day']\n",
    "df.columns = cls # db 변환 위해 컬럼명 영어로 변경\n",
    "df.info()"
   ]
  },
  {
   "cell_type": "code",
   "execution_count": null,
   "metadata": {},
   "outputs": [],
   "source": []
  },
  {
   "cell_type": "code",
   "execution_count": 31,
   "metadata": {},
   "outputs": [],
   "source": [
    "# 날짜, 숫자 변환 함수\n",
    "def dt(name):\n",
    "    df[name] = pd.to_datetime(df[name]) # 날짜로 변환\n",
    "def it(name):\n",
    "    df[name] = df[name].astype(int) # 정수로 변환\n",
    "def fl(name):\n",
    "    df[name] = df[name].astype(float) # 실수로 변환\n",
    "def com(name):\n",
    "    df[name] = df[name].apply(lambda x : x.replace(',','')) # 쉼표 없애줌"
   ]
  },
  {
   "cell_type": "code",
   "execution_count": 32,
   "metadata": {},
   "outputs": [],
   "source": [
    "# li_f = df.columns.to_list() # 변경 원하는 컬럼을 리스트로 담아줌\n",
    "li_d = [ 's_d', 'brk_s_d', 'brk_e_d', 'e_d','ops_day']"
   ]
  },
  {
   "cell_type": "code",
   "execution_count": 33,
   "metadata": {},
   "outputs": [
    {
     "name": "stdout",
     "output_type": "stream",
     "text": [
      "<class 'pandas.core.frame.DataFrame'>\n",
      "RangeIndex: 415868 entries, 0 to 415867\n",
      "Data columns (total 25 columns):\n",
      " #   Column      Non-Null Count   Dtype         \n",
      "---  ------      --------------   -----         \n",
      " 0   sido        415868 non-null  object        \n",
      " 1   sigungu     415868 non-null  object        \n",
      " 2   dong        395785 non-null  object        \n",
      " 3   name        415868 non-null  object        \n",
      " 4   ty_pe       415868 non-null  object        \n",
      " 5   ops         415868 non-null  object        \n",
      " 6   post        415868 non-null  int64         \n",
      " 7   adr         415868 non-null  object        \n",
      " 8   phone       415868 non-null  object        \n",
      " 9   fax         415868 non-null  object        \n",
      " 10  rooms       415868 non-null  int64         \n",
      " 11  sqm         415868 non-null  int64         \n",
      " 12  playground  415868 non-null  int64         \n",
      " 13  teachers    415868 non-null  int64         \n",
      " 14  no_capa     415868 non-null  int64         \n",
      " 15  no_enroll   415868 non-null  int64         \n",
      " 16  lng         407076 non-null  object        \n",
      " 17  lon         407076 non-null  object        \n",
      " 18  bus         377482 non-null  object        \n",
      " 19  web         115924 non-null  object        \n",
      " 20  s_d         415052 non-null  datetime64[ns]\n",
      " 21  brk_s_d     9066 non-null    datetime64[ns]\n",
      " 22  brk_e_d     8534 non-null    datetime64[ns]\n",
      " 23  e_d         117476 non-null  datetime64[ns]\n",
      " 24  ops_day     415868 non-null  datetime64[ns]\n",
      "dtypes: datetime64[ns](5), int64(7), object(13)\n",
      "memory usage: 79.3+ MB\n"
     ]
    }
   ],
   "source": [
    "for i in li_d: #컬럼별로 돌아가면서 일괄 변환\n",
    "    dt(i)\n",
    "df.info()"
   ]
  },
  {
   "cell_type": "code",
   "execution_count": 34,
   "metadata": {},
   "outputs": [],
   "source": [
    "df_ops = df[df.ops==('정상' or '재개')]"
   ]
  },
  {
   "cell_type": "markdown",
   "metadata": {},
   "source": [
    "## DB로 보내고 끌어오기"
   ]
  },
  {
   "cell_type": "code",
   "execution_count": 37,
   "metadata": {},
   "outputs": [],
   "source": [
    "# 필수 param 만들기\n",
    "import pymysql\n",
    "url = 'bigdata.cpnqnxkxfbaf.ap-northeast-2.rds.amazonaws.com' \n",
    "usr = 'bigdata'\n",
    "pwd = 'bigdata2020'\n",
    "db = 'bigdata'\n",
    "charset = 'utf8'"
   ]
  },
  {
   "cell_type": "code",
   "execution_count": 36,
   "metadata": {},
   "outputs": [],
   "source": [
    "# 데이터 db로 보내기\n",
    "from sqlalchemy import create_engine\n",
    "\n",
    "pymysql.install_as_MySQLdb()\n",
    "\n",
    "engine = create_engine(f'mysql://{usr}:{pwd}@{url}:3306/{db}')\n",
    "df_ops.to_sql(name='chome', con=engine, if_exists='append', index=False)\n"
   ]
  },
  {
   "cell_type": "code",
   "execution_count": 40,
   "metadata": {},
   "outputs": [],
   "source": [
    "# 데이터 db에서 가져오기\n",
    "# conn = pymysql.connect(host=url, user=usr,\n",
    "#                password=pwd, db=db, charset=charset) # db 연결\n",
    "# cursor = conn.cursor()  # 작업용 연결객체 생성\n",
    "\n",
    "sql =f'select ops_day 운영년월,sigungu 구,dong 동 ,no_capa 정원,no_enroll 현원 from chome c group by dong where {gu};'\n",
    "mdata = pd.read_sql_query(sql,engine)\n",
    "mdata.to_csv('{}')"
   ]
  },
  {
   "cell_type": "code",
   "execution_count": 41,
   "metadata": {},
   "outputs": [
    {
     "data": {
      "text/html": [
       "<div>\n",
       "<style scoped>\n",
       "    .dataframe tbody tr th:only-of-type {\n",
       "        vertical-align: middle;\n",
       "    }\n",
       "\n",
       "    .dataframe tbody tr th {\n",
       "        vertical-align: top;\n",
       "    }\n",
       "\n",
       "    .dataframe thead th {\n",
       "        text-align: right;\n",
       "    }\n",
       "</style>\n",
       "<table border=\"1\" class=\"dataframe\">\n",
       "  <thead>\n",
       "    <tr style=\"text-align: right;\">\n",
       "      <th></th>\n",
       "      <th>운영년월</th>\n",
       "      <th>구</th>\n",
       "      <th>동</th>\n",
       "      <th>정원</th>\n",
       "      <th>현원</th>\n",
       "    </tr>\n",
       "  </thead>\n",
       "  <tbody>\n",
       "    <tr>\n",
       "      <th>0</th>\n",
       "      <td>2017-03-31</td>\n",
       "      <td>마포구</td>\n",
       "      <td>None</td>\n",
       "      <td>199</td>\n",
       "      <td>48</td>\n",
       "    </tr>\n",
       "    <tr>\n",
       "      <th>1</th>\n",
       "      <td>2016-09-30</td>\n",
       "      <td>용산구</td>\n",
       "      <td>가락1동</td>\n",
       "      <td>19</td>\n",
       "      <td>17</td>\n",
       "    </tr>\n",
       "    <tr>\n",
       "      <th>2</th>\n",
       "      <td>2016-09-30</td>\n",
       "      <td>종로구</td>\n",
       "      <td>가락2동</td>\n",
       "      <td>39</td>\n",
       "      <td>37</td>\n",
       "    </tr>\n",
       "    <tr>\n",
       "      <th>3</th>\n",
       "      <td>2016-09-30</td>\n",
       "      <td>광진구</td>\n",
       "      <td>가락동</td>\n",
       "      <td>20</td>\n",
       "      <td>19</td>\n",
       "    </tr>\n",
       "    <tr>\n",
       "      <th>4</th>\n",
       "      <td>2016-09-30</td>\n",
       "      <td>강서구</td>\n",
       "      <td>가락본동</td>\n",
       "      <td>30</td>\n",
       "      <td>28</td>\n",
       "    </tr>\n",
       "    <tr>\n",
       "      <th>...</th>\n",
       "      <td>...</td>\n",
       "      <td>...</td>\n",
       "      <td>...</td>\n",
       "      <td>...</td>\n",
       "      <td>...</td>\n",
       "    </tr>\n",
       "    <tr>\n",
       "      <th>624</th>\n",
       "      <td>2016-09-30</td>\n",
       "      <td>용산구</td>\n",
       "      <td>후암동</td>\n",
       "      <td>86</td>\n",
       "      <td>79</td>\n",
       "    </tr>\n",
       "    <tr>\n",
       "      <th>625</th>\n",
       "      <td>2016-09-30</td>\n",
       "      <td>동대문구</td>\n",
       "      <td>휘경1동</td>\n",
       "      <td>23</td>\n",
       "      <td>15</td>\n",
       "    </tr>\n",
       "    <tr>\n",
       "      <th>626</th>\n",
       "      <td>2016-09-30</td>\n",
       "      <td>동대문구</td>\n",
       "      <td>휘경2동</td>\n",
       "      <td>36</td>\n",
       "      <td>25</td>\n",
       "    </tr>\n",
       "    <tr>\n",
       "      <th>627</th>\n",
       "      <td>2016-09-30</td>\n",
       "      <td>동대문구</td>\n",
       "      <td>휘경동</td>\n",
       "      <td>99</td>\n",
       "      <td>81</td>\n",
       "    </tr>\n",
       "    <tr>\n",
       "      <th>628</th>\n",
       "      <td>2016-09-30</td>\n",
       "      <td>동작구</td>\n",
       "      <td>흑석동</td>\n",
       "      <td>131</td>\n",
       "      <td>122</td>\n",
       "    </tr>\n",
       "  </tbody>\n",
       "</table>\n",
       "<p>629 rows × 5 columns</p>\n",
       "</div>"
      ],
      "text/plain": [
       "          운영년월     구     동   정원   현원\n",
       "0   2017-03-31   마포구  None  199   48\n",
       "1   2016-09-30   용산구  가락1동   19   17\n",
       "2   2016-09-30   종로구  가락2동   39   37\n",
       "3   2016-09-30   광진구   가락동   20   19\n",
       "4   2016-09-30   강서구  가락본동   30   28\n",
       "..         ...   ...   ...  ...  ...\n",
       "624 2016-09-30   용산구   후암동   86   79\n",
       "625 2016-09-30  동대문구  휘경1동   23   15\n",
       "626 2016-09-30  동대문구  휘경2동   36   25\n",
       "627 2016-09-30  동대문구   휘경동   99   81\n",
       "628 2016-09-30   동작구   흑석동  131  122\n",
       "\n",
       "[629 rows x 5 columns]"
      ]
     },
     "execution_count": 41,
     "metadata": {},
     "output_type": "execute_result"
    }
   ],
   "source": [
    "mdata"
   ]
  },
  {
   "cell_type": "code",
   "execution_count": null,
   "metadata": {},
   "outputs": [],
   "source": []
  }
 ],
 "metadata": {
  "kernelspec": {
   "display_name": "Python 3",
   "language": "python",
   "name": "python3"
  },
  "language_info": {
   "codemirror_mode": {
    "name": "ipython",
    "version": 3
   },
   "file_extension": ".py",
   "mimetype": "text/x-python",
   "name": "python",
   "nbconvert_exporter": "python",
   "pygments_lexer": "ipython3",
   "version": "3.7.6"
  }
 },
 "nbformat": 4,
 "nbformat_minor": 4
}
