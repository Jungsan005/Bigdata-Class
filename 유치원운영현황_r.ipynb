{
  "nbformat": 4,
  "nbformat_minor": 0,
  "metadata": {
    "colab": {
      "name": "유치원운영현황_r.ipynb",
      "provenance": [],
      "authorship_tag": "ABX9TyNM+gfakvxpLKH0lHipQRVe",
      "include_colab_link": true
    },
    "kernelspec": {
      "name": "ir",
      "display_name": "R"
    }
  },
  "cells": [
    {
      "cell_type": "markdown",
      "metadata": {
        "id": "view-in-github",
        "colab_type": "text"
      },
      "source": [
        "<a href=\"https://colab.research.google.com/github/Jungsan005/Bigdata-Class/blob/master/%EC%9C%A0%EC%B9%98%EC%9B%90%EC%9A%B4%EC%98%81%ED%98%84%ED%99%A9_r.ipynb\" target=\"_parent\"><img src=\"https://colab.research.google.com/assets/colab-badge.svg\" alt=\"Open In Colab\"/></a>"
      ]
    },
    {
      "cell_type": "code",
      "metadata": {
        "id": "kNSIKIgFXTCh",
        "colab_type": "code",
        "colab": {}
      },
      "source": [
        "library(readxl)"
      ],
      "execution_count": 7,
      "outputs": []
    },
    {
      "cell_type": "code",
      "metadata": {
        "id": "ID2InH2IXYCc",
        "colab_type": "code",
        "colab": {
          "base_uri": "https://localhost:8080/",
          "height": 204
        },
        "outputId": "6fa56664-4aa9-4b6a-a55e-a08500a7859a"
      },
      "source": [
        "url <- \"/content/어린이집기본정보조회(정기)-기준일(20200831).xls\" \n",
        "ch <- data.frame(read_excel(url, na= ''))\n",
        "head(ch,1)"
      ],
      "execution_count": 50,
      "outputs": [
        {
          "output_type": "display_data",
          "data": {
            "text/plain": [
              "  시도       시군구 어린이집명   어린이집유형 운영현황 우편번호\n",
              "1 서울특별시 종로구 이화어린이집 민간         정상     03123   \n",
              "  주소                                    전화번호    팩스번호    보육실수 ⋯\n",
              "1 서울특별시 종로구 율곡로20길 3 (충신동) 02-747-2686 02-747-2252 6        ⋯\n",
              "  정원 현원 위도        경도        통학차량운영여부 홈페이지주소 인가일자  \n",
              "1 64   19   37.57494521 127.0051251 미운영           NA           2004-05-03\n",
              "  휴지시작일자 휴지종료일자 폐지일자\n",
              "1 NA           NA           NA      "
            ],
            "text/latex": "A data.frame: 1 × 23\n\\begin{tabular}{r|lllllllllllllllllllll}\n  & 시도 & 시군구 & 어린이집명 & 어린이집유형 & 운영현황 & 우편번호 & 주소 & 전화번호 & 팩스번호 & 보육실수 & ⋯ & 정원 & 현원 & 위도 & 경도 & 통학차량운영여부 & 홈페이지주소 & 인가일자 & 휴지시작일자 & 휴지종료일자 & 폐지일자\\\\\n  & <chr> & <chr> & <chr> & <chr> & <chr> & <chr> & <chr> & <chr> & <chr> & <chr> & ⋯ & <chr> & <chr> & <chr> & <chr> & <chr> & <chr> & <chr> & <chr> & <chr> & <chr>\\\\\n\\hline\n\t1 & 서울특별시 & 종로구 & 이화어린이집 & 민간 & 정상 & 03123 & 서울특별시 종로구 율곡로20길 3 (충신동) & 02-747-2686 & 02-747-2252 & 6 & ⋯ & 64 & 19 & 37.57494521 & 127.0051251 & 미운영 & NA & 2004-05-03 & NA & NA & NA\\\\\n\\end{tabular}\n",
            "text/markdown": "\nA data.frame: 1 × 23\n\n| <!--/--> | 시도 &lt;chr&gt; | 시군구 &lt;chr&gt; | 어린이집명 &lt;chr&gt; | 어린이집유형 &lt;chr&gt; | 운영현황 &lt;chr&gt; | 우편번호 &lt;chr&gt; | 주소 &lt;chr&gt; | 전화번호 &lt;chr&gt; | 팩스번호 &lt;chr&gt; | 보육실수 &lt;chr&gt; | ⋯ ⋯ | 정원 &lt;chr&gt; | 현원 &lt;chr&gt; | 위도 &lt;chr&gt; | 경도 &lt;chr&gt; | 통학차량운영여부 &lt;chr&gt; | 홈페이지주소 &lt;chr&gt; | 인가일자 &lt;chr&gt; | 휴지시작일자 &lt;chr&gt; | 휴지종료일자 &lt;chr&gt; | 폐지일자 &lt;chr&gt; |\n|---|---|---|---|---|---|---|---|---|---|---|---|---|---|---|---|---|---|---|---|---|---|\n| 1 | 서울특별시 | 종로구 | 이화어린이집 | 민간 | 정상 | 03123 | 서울특별시 종로구 율곡로20길 3 (충신동) | 02-747-2686 | 02-747-2252 | 6 | ⋯ | 64 | 19 | 37.57494521 | 127.0051251 | 미운영 | NA | 2004-05-03 | NA | NA | NA |\n\n",
            "text/html": [
              "<table>\n",
              "<caption>A data.frame: 1 × 23</caption>\n",
              "<thead>\n",
              "\t<tr><th></th><th scope=col>시도</th><th scope=col>시군구</th><th scope=col>어린이집명</th><th scope=col>어린이집유형</th><th scope=col>운영현황</th><th scope=col>우편번호</th><th scope=col>주소</th><th scope=col>전화번호</th><th scope=col>팩스번호</th><th scope=col>보육실수</th><th scope=col>⋯</th><th scope=col>정원</th><th scope=col>현원</th><th scope=col>위도</th><th scope=col>경도</th><th scope=col>통학차량운영여부</th><th scope=col>홈페이지주소</th><th scope=col>인가일자</th><th scope=col>휴지시작일자</th><th scope=col>휴지종료일자</th><th scope=col>폐지일자</th></tr>\n",
              "\t<tr><th></th><th scope=col>&lt;chr&gt;</th><th scope=col>&lt;chr&gt;</th><th scope=col>&lt;chr&gt;</th><th scope=col>&lt;chr&gt;</th><th scope=col>&lt;chr&gt;</th><th scope=col>&lt;chr&gt;</th><th scope=col>&lt;chr&gt;</th><th scope=col>&lt;chr&gt;</th><th scope=col>&lt;chr&gt;</th><th scope=col>&lt;chr&gt;</th><th scope=col>⋯</th><th scope=col>&lt;chr&gt;</th><th scope=col>&lt;chr&gt;</th><th scope=col>&lt;chr&gt;</th><th scope=col>&lt;chr&gt;</th><th scope=col>&lt;chr&gt;</th><th scope=col>&lt;chr&gt;</th><th scope=col>&lt;chr&gt;</th><th scope=col>&lt;chr&gt;</th><th scope=col>&lt;chr&gt;</th><th scope=col>&lt;chr&gt;</th></tr>\n",
              "</thead>\n",
              "<tbody>\n",
              "\t<tr><th scope=row>1</th><td>서울특별시</td><td>종로구</td><td>이화어린이집</td><td>민간</td><td>정상</td><td>03123</td><td>서울특별시 종로구 율곡로20길 3 (충신동)</td><td>02-747-2686</td><td>02-747-2252</td><td>6</td><td>⋯</td><td>64</td><td>19</td><td>37.57494521</td><td>127.0051251</td><td>미운영</td><td>NA</td><td>2004-05-03</td><td>NA</td><td>NA</td><td>NA</td></tr>\n",
              "</tbody>\n",
              "</table>\n"
            ]
          },
          "metadata": {
            "tags": []
          }
        }
      ]
    },
    {
      "cell_type": "code",
      "metadata": {
        "id": "N0Tbi8feXaEY",
        "colab_type": "code",
        "colab": {
          "base_uri": "https://localhost:8080/",
          "height": 870
        },
        "outputId": "9f93f635-c8d1-4109-dc9a-ca2e9de1ad22"
      },
      "source": [
        "ch$`경도` <- as.numeric(ch$`경도`)\n",
        "ch$`위도` <- as.numeric(ch$`위도`)\n",
        "ch$`정원` <- as.numeric(ch$`정원`)\n",
        "ch$`현원` <- as.numeric(ch$`현원`)\n",
        "ch$`놀이터수` <- as.numeric(ch$`놀이터수`)\n",
        "ch$`보육교직원수` <- as.numeric(ch$`보육교직원수`)\n",
        "ch$`보육실수` <- as.numeric(ch$`보육실수`)\n",
        "ch$`인가일자` <- as.Date(ch$`인가일자`)\n",
        "ch$`휴지시작일자` <- as.Date(ch$`휴지시작일자`)\n",
        "ch$`휴지종료일자` <- as.Date(ch$`휴지종료일자`)\n",
        "ch$`폐지일자`<- as.Date(ch$`폐지일자`)\n",
        "summary(ch)"
      ],
      "execution_count": 58,
      "outputs": [
        {
          "output_type": "display_data",
          "data": {
            "text/plain": [
              "     시도              시군구           어린이집명        어린이집유형      \n",
              " Length:9062        Length:9062        Length:9062        Length:9062       \n",
              " Class :character   Class :character   Class :character   Class :character  \n",
              " Mode  :character   Mode  :character   Mode  :character   Mode  :character  \n",
              "                                                                            \n",
              "                                                                            \n",
              "                                                                            \n",
              "                                                                            \n",
              "   운영현황           우편번호             주소             전화번호        \n",
              " Length:9062        Length:9062        Length:9062        Length:9062       \n",
              " Class :character   Class :character   Class :character   Class :character  \n",
              " Mode  :character   Mode  :character   Mode  :character   Mode  :character  \n",
              "                                                                            \n",
              "                                                                            \n",
              "                                                                            \n",
              "                                                                            \n",
              "   팩스번호            보육실수       보육실면적           놀이터수      \n",
              " Length:9062        Min.   : 0.000   Length:9062        Min.   : 0.0000  \n",
              " Class :character   1st Qu.: 3.000   Class :character   1st Qu.: 0.0000  \n",
              " Mode  :character   Median : 4.000   Mode  :character   Median : 0.0000  \n",
              "                    Mean   : 4.002                      Mean   : 0.5213  \n",
              "                    3rd Qu.: 5.000                      3rd Qu.: 1.0000  \n",
              "                    Max.   :67.000                      Max.   :14.0000  \n",
              "                                                                         \n",
              "  보육교직원수         정원             현원             위도      \n",
              " Min.   : 0.000   Min.   :  0.00   Min.   :  0.00   Min.   :32.52  \n",
              " 1st Qu.: 0.000   1st Qu.: 19.00   1st Qu.:  0.00   1st Qu.:37.51  \n",
              " Median : 5.000   Median : 22.00   Median : 13.00   Median :37.55  \n",
              " Mean   : 5.822   Mean   : 38.99   Mean   : 21.82   Mean   :37.55  \n",
              " 3rd Qu.: 9.000   3rd Qu.: 49.00   3rd Qu.: 30.00   3rd Qu.:37.60  \n",
              " Max.   :63.000   Max.   :300.00   Max.   :299.00   Max.   :38.27  \n",
              "                                                    NA's   :628    \n",
              "      경도       통학차량운영여부   홈페이지주소          인가일자         \n",
              " Min.   :123.7   Length:9062        Length:9062        Min.   :1961-05-05  \n",
              " 1st Qu.:126.9   Class :character   Class :character   1st Qu.:2000-09-23  \n",
              " Median :127.0   Mode  :character   Mode  :character   Median :2006-01-25  \n",
              " Mean   :127.0                                         Mean   :2006-02-18  \n",
              " 3rd Qu.:127.1                                         3rd Qu.:2012-04-24  \n",
              " Max.   :127.2                                         Max.   :2020-09-01  \n",
              " NA's   :628                                           NA's   :17          \n",
              "  휴지시작일자         휴지종료일자           폐지일자         \n",
              " Min.   :2008-05-20   Min.   :2010-05-05   Min.   :1990-09-20  \n",
              " 1st Qu.:2015-01-27   1st Qu.:2016-09-24   1st Qu.:2014-06-28  \n",
              " Median :2017-03-31   Median :2018-07-20   Median :2017-03-01  \n",
              " Mean   :2016-12-10   Mean   :2018-06-22   Mean   :2016-04-02  \n",
              " 3rd Qu.:2020-03-01   3rd Qu.:2021-02-28   3rd Qu.:2019-02-28  \n",
              " Max.   :2020-09-01   Max.   :2021-08-06   Max.   :2020-09-01  \n",
              " NA's   :8950         NA's   :8957         NA's   :5563        "
            ]
          },
          "metadata": {
            "tags": []
          }
        }
      ]
    },
    {
      "cell_type": "code",
      "metadata": {
        "id": "_JpaBCLVYR4k",
        "colab_type": "code",
        "colab": {
          "base_uri": "https://localhost:8080/",
          "height": 70
        },
        "outputId": "db217365-2261-4253-ee0e-ed86b2145e77"
      },
      "source": [
        "table(ch$`운영현황`)"
      ],
      "execution_count": 59,
      "outputs": [
        {
          "output_type": "display_data",
          "data": {
            "text/plain": [
              "\n",
              "재개 정상 폐지 휴지 \n",
              " 112 5293 3542  112 "
            ]
          },
          "metadata": {
            "tags": []
          }
        }
      ]
    },
    {
      "cell_type": "code",
      "metadata": {
        "id": "Gu8l-4bcY1Pd",
        "colab_type": "code",
        "colab": {}
      },
      "source": [
        "ch_정상 <- ch[ch$'운영현황'=='정상',]\n",
        "ch_재개 <- ch[ch$'운영현황'=='재개',]\n",
        "ch_휴지 <- ch[ch$'운영현황'=='휴지',]\n",
        "ch_폐지 <- ch[ch$'운영현황'=='폐지',]"
      ],
      "execution_count": 60,
      "outputs": []
    },
    {
      "cell_type": "code",
      "metadata": {
        "id": "2n0Fp_mfaAwb",
        "colab_type": "code",
        "colab": {
          "base_uri": "https://localhost:8080/",
          "height": 1000
        },
        "outputId": "8feb025a-8051-49c7-e114-000a5e11f535"
      },
      "source": [
        "summary(ch_정상)\n",
        "head(ch_정상,1)"
      ],
      "execution_count": 62,
      "outputs": [
        {
          "output_type": "display_data",
          "data": {
            "text/plain": [
              "     시도              시군구           어린이집명        어린이집유형      \n",
              " Length:5296        Length:5296        Length:5296        Length:5296       \n",
              " Class :character   Class :character   Class :character   Class :character  \n",
              " Mode  :character   Mode  :character   Mode  :character   Mode  :character  \n",
              "                                                                            \n",
              "                                                                            \n",
              "                                                                            \n",
              "                                                                            \n",
              "   운영현황           우편번호             주소             전화번호        \n",
              " Length:5296        Length:5296        Length:5296        Length:5296       \n",
              " Class :character   Class :character   Class :character   Class :character  \n",
              " Mode  :character   Mode  :character   Mode  :character   Mode  :character  \n",
              "                                                                            \n",
              "                                                                            \n",
              "                                                                            \n",
              "                                                                            \n",
              "   팩스번호            보육실수       보육실면적           놀이터수     \n",
              " Length:5296        Min.   : 1.000   Length:5296        Min.   : 0.000  \n",
              " Class :character   1st Qu.: 3.000   Class :character   1st Qu.: 0.000  \n",
              " Mode  :character   Median : 4.000   Mode  :character   Median : 0.000  \n",
              "                    Mean   : 4.466                      Mean   : 0.666  \n",
              "                    3rd Qu.: 5.000                      3rd Qu.: 1.000  \n",
              "                    Max.   :18.000                      Max.   :14.000  \n",
              "                    NA's   :3                           NA's   :3       \n",
              "  보육교직원수         정원             현원            위도      \n",
              " Min.   : 0.000   Min.   :  0.00   Min.   :  0.0   Min.   :37.44  \n",
              " 1st Qu.: 6.000   1st Qu.: 20.00   1st Qu.: 16.0   1st Qu.:37.51  \n",
              " Median : 8.000   Median : 32.00   Median : 22.0   Median :37.55  \n",
              " Mean   : 9.813   Mean   : 45.74   Mean   : 36.8   Mean   :37.55  \n",
              " 3rd Qu.:12.000   3rd Qu.: 65.00   3rd Qu.: 51.0   3rd Qu.:37.59  \n",
              " Max.   :63.000   Max.   :300.00   Max.   :299.0   Max.   :38.27  \n",
              " NA's   :3        NA's   :3        NA's   :3       NA's   :3      \n",
              "      경도       통학차량운영여부   홈페이지주소          인가일자         \n",
              " Min.   :126.1   Length:5296        Length:5296        Min.   :1961-05-05  \n",
              " 1st Qu.:126.9   Class :character   Class :character   1st Qu.:2001-01-21  \n",
              " Median :127.0   Mode  :character   Mode  :character   Median :2007-08-24  \n",
              " Mean   :127.0                                         Mean   :2007-02-03  \n",
              " 3rd Qu.:127.1                                         3rd Qu.:2014-03-19  \n",
              " Max.   :127.2                                         Max.   :2020-09-01  \n",
              " NA's   :3                                             NA's   :3           \n",
              "  휴지시작일자   휴지종료일자     폐지일자   \n",
              " Min.   :NA     Min.   :NA     Min.   :NA    \n",
              " 1st Qu.:NA     1st Qu.:NA     1st Qu.:NA    \n",
              " Median :NA     Median :NA     Median :NA    \n",
              " Mean   :NA     Mean   :NA     Mean   :NA    \n",
              " 3rd Qu.:NA     3rd Qu.:NA     3rd Qu.:NA    \n",
              " Max.   :NA     Max.   :NA     Max.   :NA    \n",
              " NA's   :5296   NA's   :5296   NA's   :5296  "
            ]
          },
          "metadata": {
            "tags": []
          }
        },
        {
          "output_type": "display_data",
          "data": {
            "text/plain": [
              "  시도       시군구 어린이집명   어린이집유형 운영현황 우편번호\n",
              "1 서울특별시 종로구 이화어린이집 민간         정상     03123   \n",
              "  주소                                    전화번호    팩스번호    보육실수 ⋯\n",
              "1 서울특별시 종로구 율곡로20길 3 (충신동) 02-747-2686 02-747-2252 6        ⋯\n",
              "  정원 현원 위도     경도     통학차량운영여부 홈페이지주소 인가일자  \n",
              "1 64   19   37.57495 127.0051 미운영           NA           2004-05-03\n",
              "  휴지시작일자 휴지종료일자 폐지일자\n",
              "1 <NA>         <NA>         <NA>    "
            ],
            "text/latex": "A data.frame: 1 × 23\n\\begin{tabular}{r|lllllllllllllllllllll}\n  & 시도 & 시군구 & 어린이집명 & 어린이집유형 & 운영현황 & 우편번호 & 주소 & 전화번호 & 팩스번호 & 보육실수 & ⋯ & 정원 & 현원 & 위도 & 경도 & 통학차량운영여부 & 홈페이지주소 & 인가일자 & 휴지시작일자 & 휴지종료일자 & 폐지일자\\\\\n  & <chr> & <chr> & <chr> & <chr> & <chr> & <chr> & <chr> & <chr> & <chr> & <dbl> & ⋯ & <dbl> & <dbl> & <dbl> & <dbl> & <chr> & <chr> & <date> & <date> & <date> & <date>\\\\\n\\hline\n\t1 & 서울특별시 & 종로구 & 이화어린이집 & 민간 & 정상 & 03123 & 서울특별시 종로구 율곡로20길 3 (충신동) & 02-747-2686 & 02-747-2252 & 6 & ⋯ & 64 & 19 & 37.57495 & 127.0051 & 미운영 & NA & 2004-05-03 & NA & NA & NA\\\\\n\\end{tabular}\n",
            "text/markdown": "\nA data.frame: 1 × 23\n\n| <!--/--> | 시도 &lt;chr&gt; | 시군구 &lt;chr&gt; | 어린이집명 &lt;chr&gt; | 어린이집유형 &lt;chr&gt; | 운영현황 &lt;chr&gt; | 우편번호 &lt;chr&gt; | 주소 &lt;chr&gt; | 전화번호 &lt;chr&gt; | 팩스번호 &lt;chr&gt; | 보육실수 &lt;dbl&gt; | ⋯ ⋯ | 정원 &lt;dbl&gt; | 현원 &lt;dbl&gt; | 위도 &lt;dbl&gt; | 경도 &lt;dbl&gt; | 통학차량운영여부 &lt;chr&gt; | 홈페이지주소 &lt;chr&gt; | 인가일자 &lt;date&gt; | 휴지시작일자 &lt;date&gt; | 휴지종료일자 &lt;date&gt; | 폐지일자 &lt;date&gt; |\n|---|---|---|---|---|---|---|---|---|---|---|---|---|---|---|---|---|---|---|---|---|---|\n| 1 | 서울특별시 | 종로구 | 이화어린이집 | 민간 | 정상 | 03123 | 서울특별시 종로구 율곡로20길 3 (충신동) | 02-747-2686 | 02-747-2252 | 6 | ⋯ | 64 | 19 | 37.57495 | 127.0051 | 미운영 | NA | 2004-05-03 | NA | NA | NA |\n\n",
            "text/html": [
              "<table>\n",
              "<caption>A data.frame: 1 × 23</caption>\n",
              "<thead>\n",
              "\t<tr><th></th><th scope=col>시도</th><th scope=col>시군구</th><th scope=col>어린이집명</th><th scope=col>어린이집유형</th><th scope=col>운영현황</th><th scope=col>우편번호</th><th scope=col>주소</th><th scope=col>전화번호</th><th scope=col>팩스번호</th><th scope=col>보육실수</th><th scope=col>⋯</th><th scope=col>정원</th><th scope=col>현원</th><th scope=col>위도</th><th scope=col>경도</th><th scope=col>통학차량운영여부</th><th scope=col>홈페이지주소</th><th scope=col>인가일자</th><th scope=col>휴지시작일자</th><th scope=col>휴지종료일자</th><th scope=col>폐지일자</th></tr>\n",
              "\t<tr><th></th><th scope=col>&lt;chr&gt;</th><th scope=col>&lt;chr&gt;</th><th scope=col>&lt;chr&gt;</th><th scope=col>&lt;chr&gt;</th><th scope=col>&lt;chr&gt;</th><th scope=col>&lt;chr&gt;</th><th scope=col>&lt;chr&gt;</th><th scope=col>&lt;chr&gt;</th><th scope=col>&lt;chr&gt;</th><th scope=col>&lt;dbl&gt;</th><th scope=col>⋯</th><th scope=col>&lt;dbl&gt;</th><th scope=col>&lt;dbl&gt;</th><th scope=col>&lt;dbl&gt;</th><th scope=col>&lt;dbl&gt;</th><th scope=col>&lt;chr&gt;</th><th scope=col>&lt;chr&gt;</th><th scope=col>&lt;date&gt;</th><th scope=col>&lt;date&gt;</th><th scope=col>&lt;date&gt;</th><th scope=col>&lt;date&gt;</th></tr>\n",
              "</thead>\n",
              "<tbody>\n",
              "\t<tr><th scope=row>1</th><td>서울특별시</td><td>종로구</td><td>이화어린이집</td><td>민간</td><td>정상</td><td>03123</td><td>서울특별시 종로구 율곡로20길 3 (충신동)</td><td>02-747-2686</td><td>02-747-2252</td><td>6</td><td>⋯</td><td>64</td><td>19</td><td>37.57495</td><td>127.0051</td><td>미운영</td><td>NA</td><td>2004-05-03</td><td>NA</td><td>NA</td><td>NA</td></tr>\n",
              "</tbody>\n",
              "</table>\n"
            ]
          },
          "metadata": {
            "tags": []
          }
        }
      ]
    },
    {
      "cell_type": "code",
      "metadata": {
        "id": "1Ywm_I3EcwN-",
        "colab_type": "code",
        "colab": {}
      },
      "source": [
        ""
      ],
      "execution_count": null,
      "outputs": []
    }
  ]
}