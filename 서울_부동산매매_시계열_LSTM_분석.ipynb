{
  "nbformat": 4,
  "nbformat_minor": 0,
  "metadata": {
    "colab": {
      "name": "서울 부동산매매 시계열 LSTM 분석.ipynb",
      "provenance": [],
      "collapsed_sections": [],
      "include_colab_link": true
    },
    "kernelspec": {
      "name": "python3",
      "display_name": "Python 3"
    }
  },
  "cells": [
    {
      "cell_type": "markdown",
      "metadata": {
        "id": "view-in-github",
        "colab_type": "text"
      },
      "source": [
        "<a href=\"https://colab.research.google.com/github/Jungsan005/Bigdata-Class/blob/master/%EC%84%9C%EC%9A%B8_%EB%B6%80%EB%8F%99%EC%82%B0%EB%A7%A4%EB%A7%A4_%EC%8B%9C%EA%B3%84%EC%97%B4_LSTM_%EB%B6%84%EC%84%9D.ipynb\" target=\"_parent\"><img src=\"https://colab.research.google.com/assets/colab-badge.svg\" alt=\"Open In Colab\"/></a>"
      ]
    },
    {
      "cell_type": "code",
      "metadata": {
        "id": "kGs7YRc_YoQl"
      },
      "source": [
        "import numpy as np\n",
        "import pandas as pd\n",
        "import matplotlib.pyplot as plt"
      ],
      "execution_count": 4,
      "outputs": []
    },
    {
      "cell_type": "code",
      "metadata": {
        "id": "maf1UWtTWEIb",
        "outputId": "2228439c-4d5d-4ca8-a1a9-de78403f7f84",
        "colab": {
          "base_uri": "https://localhost:8080/",
          "height": 204
        }
      },
      "source": [
        "# 데이터 불러오기\n",
        "seoul = pd.read_csv('https://raw.githubusercontent.com/Jungsan005/Bigdata-Class/master/seoul.csv')\n",
        "seoul.head(5)"
      ],
      "execution_count": 5,
      "outputs": [
        {
          "output_type": "execute_result",
          "data": {
            "text/html": [
              "<div>\n",
              "<style scoped>\n",
              "    .dataframe tbody tr th:only-of-type {\n",
              "        vertical-align: middle;\n",
              "    }\n",
              "\n",
              "    .dataframe tbody tr th {\n",
              "        vertical-align: top;\n",
              "    }\n",
              "\n",
              "    .dataframe thead th {\n",
              "        text-align: right;\n",
              "    }\n",
              "</style>\n",
              "<table border=\"1\" class=\"dataframe\">\n",
              "  <thead>\n",
              "    <tr style=\"text-align: right;\">\n",
              "      <th></th>\n",
              "      <th>year</th>\n",
              "      <th>month</th>\n",
              "      <th>price</th>\n",
              "    </tr>\n",
              "  </thead>\n",
              "  <tbody>\n",
              "    <tr>\n",
              "      <th>0</th>\n",
              "      <td>2010</td>\n",
              "      <td>1</td>\n",
              "      <td>497.6</td>\n",
              "    </tr>\n",
              "    <tr>\n",
              "      <th>1</th>\n",
              "      <td>2010</td>\n",
              "      <td>2</td>\n",
              "      <td>481.1</td>\n",
              "    </tr>\n",
              "    <tr>\n",
              "      <th>2</th>\n",
              "      <td>2010</td>\n",
              "      <td>3</td>\n",
              "      <td>478.7</td>\n",
              "    </tr>\n",
              "    <tr>\n",
              "      <th>3</th>\n",
              "      <td>2010</td>\n",
              "      <td>4</td>\n",
              "      <td>471.2</td>\n",
              "    </tr>\n",
              "    <tr>\n",
              "      <th>4</th>\n",
              "      <td>2010</td>\n",
              "      <td>5</td>\n",
              "      <td>475.0</td>\n",
              "    </tr>\n",
              "  </tbody>\n",
              "</table>\n",
              "</div>"
            ],
            "text/plain": [
              "   year  month  price\n",
              "0  2010      1  497.6\n",
              "1  2010      2  481.1\n",
              "2  2010      3  478.7\n",
              "3  2010      4  471.2\n",
              "4  2010      5  475.0"
            ]
          },
          "metadata": {
            "tags": []
          },
          "execution_count": 5
        }
      ]
    },
    {
      "cell_type": "code",
      "metadata": {
        "id": "tqEjEbSvYi_C",
        "outputId": "1ea43001-8ed8-461c-e256-6230be96d692",
        "colab": {
          "base_uri": "https://localhost:8080/",
          "height": 283
        }
      },
      "source": [
        "# 시각화로 데이터 확인\n",
        "plt.plot(seoul.price)"
      ],
      "execution_count": 7,
      "outputs": [
        {
          "output_type": "execute_result",
          "data": {
            "text/plain": [
              "[<matplotlib.lines.Line2D at 0x7fb28d9b3908>]"
            ]
          },
          "metadata": {
            "tags": []
          },
          "execution_count": 7
        },
        {
          "output_type": "display_data",
          "data": {
            "image/png": "[encoded data removed]",
            "text/plain": [
              "<Figure size 432x288 with 1 Axes>"
            ]
          },
          "metadata": {
            "tags": [],
            "needs_background": "light"
          }
        }
      ]
    },
    {
      "cell_type": "code",
      "metadata": {
        "id": "f0b1XwqdWaRa"
      },
      "source": [
        "import math\n",
        "from keras.models import Sequential\n",
        "from keras.layers import Dense\n",
        "from keras.layers import LSTM\n",
        "from sklearn.preprocessing import MinMaxScaler\n",
        "from sklearn.model_selection import train_test_split\n",
        "from sklearn.metrics import mean_squared_error\n",
        "from keras.callbacks import EarlyStopping"
      ],
      "execution_count": 9,
      "outputs": []
    },
    {
      "cell_type": "code",
      "metadata": {
        "id": "nZYg2eCoXlaT"
      },
      "source": [
        "# 랜덤 시드 설정\n",
        "np.random.seed(2008072100)"
      ],
      "execution_count": 10,
      "outputs": []
    },
    {
      "cell_type": "code",
      "metadata": {
        "id": "RUkBNVJNXoab",
        "outputId": "f29376a9-e178-4eb4-d993-472074a10087",
        "colab": {
          "base_uri": "https://localhost:8080/",
          "height": 53
        }
      },
      "source": [
        "# 평당 가격 데이터를 float32로 변환\n",
        "dataset = seoul.price.to_numpy()\n",
        "dataset = dataset.astype('float32')\n",
        "dataset[:12]"
      ],
      "execution_count": 19,
      "outputs": [
        {
          "output_type": "execute_result",
          "data": {
            "text/plain": [
              "array([497.6, 481.1, 478.7, 471.2, 475. , 468.7, 479.2, 463.1, 469.2,\n",
              "       462.9, 476.4, 475.6], dtype=float32)"
            ]
          },
          "metadata": {
            "tags": []
          },
          "execution_count": 19
        }
      ]
    },
    {
      "cell_type": "code",
      "metadata": {
        "id": "Lz7UwjelYK9o",
        "outputId": "6b374a67-98e8-4273-fd48-30eb53be3042",
        "colab": {
          "base_uri": "https://localhost:8080/",
          "height": 233
        }
      },
      "source": [
        "# 값의 범위를 0~1로 정규화\n",
        "scaler = MinMaxScaler(feature_range=(0, 1))\n",
        "dataset = scaler.fit_transform(dataset.reshape(-1,1))\n",
        "dataset[:12]"
      ],
      "execution_count": 20,
      "outputs": [
        {
          "output_type": "execute_result",
          "data": {
            "text/plain": [
              "array([[0.11123788],\n",
              "       [0.06417561],\n",
              "       [0.05733025],\n",
              "       [0.03593838],\n",
              "       [0.04677689],\n",
              "       [0.02880776],\n",
              "       [0.05875635],\n",
              "       [0.01283514],\n",
              "       [0.03023386],\n",
              "       [0.01226461],\n",
              "       [0.05077004],\n",
              "       [0.04848826]], dtype=float32)"
            ]
          },
          "metadata": {
            "tags": []
          },
          "execution_count": 20
        }
      ]
    },
    {
      "cell_type": "code",
      "metadata": {
        "id": "JDmH17xeYVSM",
        "outputId": "018efb95-264c-413a-8736-e8c0acd3c17a",
        "colab": {
          "base_uri": "https://localhost:8080/",
          "height": 35
        }
      },
      "source": [
        "# 7.5:2.5 비율로 훈련데이터와 테스트데이터 분리 \n",
        "train_size = int(len(dataset) * 0.75)\n",
        "test_size = len(dataset) - train_size\n",
        "train, test = dataset[0:train_size,:], dataset[train_size:len(dataset),:]\n",
        "print(len(train), len(test))"
      ],
      "execution_count": 21,
      "outputs": [
        {
          "output_type": "stream",
          "text": [
            "90 30\n"
          ],
          "name": "stdout"
        }
      ]
    },
    {
      "cell_type": "code",
      "metadata": {
        "id": "hbRo6Mc6aX8S",
        "outputId": "36735ea1-ea54-46c9-c26c-506b1e6110e1",
        "colab": {
          "base_uri": "https://localhost:8080/",
          "height": 283
        }
      },
      "source": [
        "# 훈련데이터와 테스트데이터 시각화\n",
        "x = len(train)+1\n",
        "y = len(test)+1\n",
        "df_train = pd.DataFrame(train, index=range(1, x))\n",
        "df_test = pd.DataFrame(test, index=range(x, x+y-1) )\n",
        "\n",
        "ax = df_train.plot()\n",
        "df_test.plot(ax=ax)\n",
        "plt.legend(['train', 'test'])"
      ],
      "execution_count": 65,
      "outputs": [
        {
          "output_type": "execute_result",
          "data": {
            "text/plain": [
              "<matplotlib.legend.Legend at 0x7fb2441bdda0>"
            ]
          },
          "metadata": {
            "tags": []
          },
          "execution_count": 65
        },
        {
          "output_type": "display_data",
          "data": {
            "image/png": "[encoded data removed]",
            "text/plain": [
              "<Figure size 432x288 with 1 Axes>"
            ]
          },
          "metadata": {
            "tags": [],
            "needs_background": "light"
          }
        }
      ]
    },
    {
      "cell_type": "code",
      "metadata": {
        "id": "ysgpyDDRdFoo"
      },
      "source": [
        "# X는 현재 시점(t)의 평당 가격이고, \n",
        "# Y는 다음 시점(t+1)의 평당 가격인 데이터 집합을 생성하는 함수 정의\n",
        "def shift_dataset(dataset, shift=1):\n",
        "\tdataX, dataY = [], []\n",
        "\tfor i in range(len(dataset)-shift-1):\n",
        "\t\ta = dataset[i:(i+shift), 0]\n",
        "\t\tdataX.append(a)\n",
        "\t\tdataY.append(dataset[i + shift, 0])\n",
        "\treturn np.array(dataX), np.array(dataY)"
      ],
      "execution_count": 96,
      "outputs": []
    },
    {
      "cell_type": "code",
      "metadata": {
        "id": "r7R4LQdbdt9K"
      },
      "source": [
        "# train 데이터와 test 데이터에 대해 X, Y 컬럼 생성\n",
        "shift = 1\n",
        "X_train, y_train = shift_dataset(train, shift)\n",
        "X_test, y_test = shift_dataset(test, shift)"
      ],
      "execution_count": 97,
      "outputs": []
    },
    {
      "cell_type": "code",
      "metadata": {
        "id": "PeuYa-mWeEPh"
      },
      "source": [
        "# keras에서는 RNN 계열 모델을 훈련시킬때 \n",
        "# 데이터는 반드시 3차원 형식이어야 하고 \n",
        "# 각 차원은 (sample, timestep, feature) 로 구성되어야 함\n",
        "# 일반적인 MLP 모델에서는 sample와 feature 등으로 구성되는 2차원 배열이지만,\n",
        "# RNN에서는 \"시간\"이라는 개념이 포함되기 때문에 차원이 하나 더 늘어남\n",
        "\n",
        "X_train = X_train.reshape(X_train.shape[0], 1, X_train.shape[1])\n",
        "X_test = X_test.reshape(X_test.shape[0], 1, X_test.shape[1])"
      ],
      "execution_count": 98,
      "outputs": []
    },
    {
      "cell_type": "code",
      "metadata": {
        "id": "orkcKrBaeJJF",
        "outputId": "d2fee05a-842a-448f-f476-809f557324d0",
        "colab": {
          "base_uri": "https://localhost:8080/",
          "height": 233
        }
      },
      "source": [
        "# keras를 이용해서 LSTM 모델 생성 \n",
        "# 입력유형은 (timestep, feature) \n",
        "# 출력유형은 target의 갯수가 1이므로 Dense(1)을 추가함 \n",
        "# 연속적인 값을 예측하는 것이기 때문에 손실함수는 mean squared error로 설정\n",
        "# 최적화함수는 일반적으로 adam으로 설정\n",
        "# 훈련 데이터를 100번 사용해서 학습을 실시함\n",
        "# 훈련 데이터를 5개의 작은 조각batch들로 나누고 이 조각들을 순회하며 학습을 진행\n",
        "# 따라서, 총 학습횟수는 이포크수 x (훈련데이터수 / 배치사이즈) \n",
        "# 학습시 훈련의 진행도를 보여주는 진행 막대를 보여줌\n",
        "\n",
        "model = Sequential()\n",
        "model.add(LSTM(4, input_shape=(1, shift)))\n",
        "model.add(Dense(1))\n",
        "model.compile(loss='mean_squared_error', optimizer='adam')\n",
        "\n",
        "# model.fit(X_train, y_train, epochs=100, batch_size=1, verbose=1)\n",
        "history = model.fit(X_train, y_train, epochs=100, batch_size=1, verbose=0,\n",
        "                    validation_data=(X_test, y_test), \n",
        "                    callbacks=[EarlyStopping(monitor='val_loss', patience=10)])\n",
        "\n",
        "model.summary()"
      ],
      "execution_count": 99,
      "outputs": [
        {
          "output_type": "stream",
          "text": [
            "Model: \"sequential_3\"\n",
            "_________________________________________________________________\n",
            "Layer (type)                 Output Shape              Param #   \n",
            "=================================================================\n",
            "lstm_3 (LSTM)                (None, 4)                 96        \n",
            "_________________________________________________________________\n",
            "dense_3 (Dense)              (None, 1)                 5         \n",
            "=================================================================\n",
            "Total params: 101\n",
            "Trainable params: 101\n",
            "Non-trainable params: 0\n",
            "_________________________________________________________________\n"
          ],
          "name": "stdout"
        }
      ]
    },
    {
      "cell_type": "code",
      "metadata": {
        "id": "QXvLgHLnwOpV",
        "outputId": "0f190efd-e02f-465f-a217-1945eda0595e",
        "colab": {
          "base_uri": "https://localhost:8080/",
          "height": 283
        }
      },
      "source": [
        "plt.plot(history.history['loss'], label='Train Loss')\n",
        "plt.plot(history.history['val_loss'], label='Test Loss')\n",
        "plt.legend()"
      ],
      "execution_count": 100,
      "outputs": [
        {
          "output_type": "execute_result",
          "data": {
            "text/plain": [
              "<matplotlib.legend.Legend at 0x7fb237143860>"
            ]
          },
          "metadata": {
            "tags": []
          },
          "execution_count": 100
        },
        {
          "output_type": "display_data",
          "data": {
            "image/png": "[encoded data removed]",
            "text/plain": [
              "<Figure size 432x288 with 1 Axes>"
            ]
          },
          "metadata": {
            "tags": [],
            "needs_background": "light"
          }
        }
      ]
    },
    {
      "cell_type": "code",
      "metadata": {
        "id": "qRjzE5x7eQMr",
        "outputId": "59947d73-aa5c-45fc-c50f-e049b91f5eda",
        "colab": {
          "base_uri": "https://localhost:8080/",
          "height": 233
        }
      },
      "source": [
        "# 예측 실시\n",
        "tr_pred = model.predict(X_train)\n",
        "ts_pred = model.predict(X_test)\n",
        "\n",
        "ts_pred[:12]"
      ],
      "execution_count": 101,
      "outputs": [
        {
          "output_type": "execute_result",
          "data": {
            "text/plain": [
              "array([[0.4801558 ],\n",
              "       [0.46715194],\n",
              "       [0.5082551 ],\n",
              "       [0.5290622 ],\n",
              "       [0.56574196],\n",
              "       [0.6018218 ],\n",
              "       [0.61329234],\n",
              "       [0.6261123 ],\n",
              "       [0.59170187],\n",
              "       [0.6014843 ],\n",
              "       [0.6180155 ],\n",
              "       [0.6914711 ]], dtype=float32)"
            ]
          },
          "metadata": {
            "tags": []
          },
          "execution_count": 101
        }
      ]
    },
    {
      "cell_type": "code",
      "metadata": {
        "id": "XnflOHKUeZh2",
        "outputId": "0dabd27e-34e9-4522-bf65-7f8fe66cd756",
        "colab": {
          "base_uri": "https://localhost:8080/",
          "height": 233
        }
      },
      "source": [
        "# 0~1로 정규화했던 것을 원래의 값으로 환원\n",
        "tr_pred = scaler.inverse_transform(tr_pred)\n",
        "y_train = scaler.inverse_transform([y_train])\n",
        "\n",
        "ts_pred = scaler.inverse_transform(ts_pred)\n",
        "y_test = scaler.inverse_transform([y_test])\n",
        "\n",
        "ts_pred[:12]"
      ],
      "execution_count": 102,
      "outputs": [
        {
          "output_type": "execute_result",
          "data": {
            "text/plain": [
              "array([[626.9427 ],\n",
              "       [622.38354],\n",
              "       [636.79425],\n",
              "       [644.08923],\n",
              "       [656.94916],\n",
              "       [669.59875],\n",
              "       [673.6203 ],\n",
              "       [678.115  ],\n",
              "       [666.0507 ],\n",
              "       [669.4804 ],\n",
              "       [675.2763 ],\n",
              "       [701.0298 ]], dtype=float32)"
            ]
          },
          "metadata": {
            "tags": []
          },
          "execution_count": 102
        }
      ]
    },
    {
      "cell_type": "code",
      "metadata": {
        "id": "zc0V4Roseazi",
        "outputId": "079633e7-ff88-4541-8602-dff98538619b",
        "colab": {
          "base_uri": "https://localhost:8080/",
          "height": 53
        }
      },
      "source": [
        "# 예측값에 대한 평균제곱오차 계산\n",
        "tr_score = math.sqrt(mean_squared_error(y_train[0], tr_pred[:,0]))\n",
        "print('Train Score: %.2f RMSE' % (tr_score))\n",
        "\n",
        "ts_core = math.sqrt(mean_squared_error(y_test[0], ts_pred[:,0]))\n",
        "print('Test Score: %.2f RMSE' % (ts_core))"
      ],
      "execution_count": 103,
      "outputs": [
        {
          "output_type": "stream",
          "text": [
            "Train Score: 9.03 RMSE\n",
            "Test Score: 24.01 RMSE\n"
          ],
          "name": "stdout"
        }
      ]
    },
    {
      "cell_type": "code",
      "metadata": {
        "id": "91kvP9BBe-iK"
      },
      "source": [
        "# 시각화를 위해 훈련 예측데이터를 재조정\n",
        "tr_pred_data = np.empty_like(dataset)\n",
        "tr_pred_data[:, :] = np.nan\n",
        "tr_pred_data[shift:len(tr_pred)+shift, :] = tr_pred"
      ],
      "execution_count": 104,
      "outputs": []
    },
    {
      "cell_type": "code",
      "metadata": {
        "id": "obcVU0iGfHId"
      },
      "source": [
        "# 시각화를 위해 테스트 예측데이터를 재조정\n",
        "ts_pred_data = np.empty_like(dataset)\n",
        "ts_pred_data[:, :] = np.nan\n",
        "ts_pred_data[len(tr_pred)+(shift*2)+1:len(dataset)-1, :] = ts_pred"
      ],
      "execution_count": 105,
      "outputs": []
    },
    {
      "cell_type": "code",
      "metadata": {
        "id": "kyo1BiP7fIMT",
        "outputId": "f6a26c48-2084-423b-9614-eeaa78ca2fd5",
        "colab": {
          "base_uri": "https://localhost:8080/",
          "height": 283
        }
      },
      "source": [
        "# 예측 결과 시각화\n",
        "plt.plot(scaler.inverse_transform(dataset))\n",
        "\n",
        "plt.plot(tr_pred_data)\n",
        "plt.plot(ts_pred_data)"
      ],
      "execution_count": 106,
      "outputs": [
        {
          "output_type": "execute_result",
          "data": {
            "text/plain": [
              "[<matplotlib.lines.Line2D at 0x7fb23aa8b0b8>]"
            ]
          },
          "metadata": {
            "tags": []
          },
          "execution_count": 106
        },
        {
          "output_type": "display_data",
          "data": {
            "image/png": "[encoded data removed]",
            "text/plain": [
              "<Figure size 432x288 with 1 Axes>"
            ]
          },
          "metadata": {
            "tags": [],
            "needs_background": "light"
          }
        }
      ]
    }
  ]
}