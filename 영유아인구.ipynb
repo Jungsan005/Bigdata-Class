{
 "cells": [
  {
   "cell_type": "code",
   "execution_count": 1,
   "metadata": {},
   "outputs": [],
   "source": [
    "from selenium import webdriver\n",
    "from selenium.webdriver.common.keys import Keys\n",
    "from selenium.webdriver.remote.webelement import WebElement\n",
    "from selenium.webdriver import ActionChains\n",
    "from selenium.webdriver.common.alert import Alert\n",
    "import requests\n",
    "import time"
   ]
  },
  {
   "cell_type": "code",
   "execution_count": 59,
   "metadata": {},
   "outputs": [
    {
     "name": "stderr",
     "output_type": "stream",
     "text": [
      "C:\\Users\\tjoeun\\anaconda3\\lib\\site-packages\\ipykernel_launcher.py:11: DeprecationWarning: use driver.switch_to.frame instead\n",
      "  # This is added back by InteractiveShellApp.init_path()\n"
     ]
    },
    {
     "ename": "FileNotFoundError",
     "evalue": "[WinError 3] 지정된 경로를 찾을 수 없습니다: 'C:/Users/tjoeun/Downloads/201401_201401_연령별인구현황_월간.csv' -> 'E:/BD_Class/BD_Class/Project/4차/연령별/연령별인구_201401.csv'",
     "output_type": "error",
     "traceback": [
      "\u001b[1;31m---------------------------------------------------------------------------\u001b[0m",
      "\u001b[1;31mFileNotFoundError\u001b[0m                         Traceback (most recent call last)",
      "\u001b[1;32m<ipython-input-59-96d1c109ec99>\u001b[0m in \u001b[0;36m<module>\u001b[1;34m\u001b[0m\n\u001b[0;32m     44\u001b[0m \u001b[1;32mfor\u001b[0m \u001b[0myear\u001b[0m \u001b[1;32min\u001b[0m \u001b[0myears\u001b[0m\u001b[1;33m:\u001b[0m\u001b[1;33m\u001b[0m\u001b[1;33m\u001b[0m\u001b[0m\n\u001b[0;32m     45\u001b[0m     \u001b[1;32mfor\u001b[0m \u001b[0mmonth\u001b[0m \u001b[1;32min\u001b[0m \u001b[0mmonths\u001b[0m\u001b[1;33m:\u001b[0m\u001b[1;33m\u001b[0m\u001b[1;33m\u001b[0m\u001b[0m\n\u001b[1;32m---> 46\u001b[1;33m         \u001b[0mos\u001b[0m\u001b[1;33m.\u001b[0m\u001b[0mrename\u001b[0m\u001b[1;33m(\u001b[0m\u001b[0mpath1\u001b[0m\u001b[1;33m+\u001b[0m\u001b[1;34mf'/{year}{month}_{year}{month}_연령별인구현황_월간.csv'\u001b[0m\u001b[1;33m,\u001b[0m\u001b[0mpath2\u001b[0m\u001b[1;33m+\u001b[0m\u001b[1;34mf'/연령별인구_{year}{month}.csv'\u001b[0m\u001b[1;33m)\u001b[0m\u001b[1;33m\u001b[0m\u001b[1;33m\u001b[0m\u001b[0m\n\u001b[0m",
      "\u001b[1;31mFileNotFoundError\u001b[0m: [WinError 3] 지정된 경로를 찾을 수 없습니다: 'C:/Users/tjoeun/Downloads/201401_201401_연령별인구현황_월간.csv' -> 'E:/BD_Class/BD_Class/Project/4차/연령별/연령별인구_201401.csv'"
     ]
    }
   ],
   "source": [
    "# 공공데이터 웹페이지 열기\n",
    "driver = webdriver.Chrome('./chromedriver')\n",
    "url = 'http://27.101.213.4/index.jsp#'\n",
    "driver.get(url)\n",
    "# 연령별 인구현황클릭\n",
    "driver.find_element_by_xpath('//*[@id=\"header\"]/div/div/a').click()\n",
    "driver.find_element_by_xpath('//*[@id=\"li2\"]/a').click()\n",
    "\n",
    "# iframe 안으로 들어가기\n",
    "iframe = driver.find_element_by_id('totalFrame')\n",
    "driver.switch_to_frame(iframe)\n",
    "\n",
    "# 인구총계 설정빼기\n",
    "driver.find_element_by_id('sum').click()\n",
    "# 연령구분 단위 1세 클릭\n",
    "driver.find_element_by_xpath('//*[@id=\"sltArgTypes\"]/option[3]').click()\n",
    "# 만연령구분 범위 0~5세 클릭\n",
    "driver.find_element_by_xpath('//*[@id=\"sltArgTypeB\"]/option[6]').click()\n",
    "\n",
    "# 검색연도, 월 지정\n",
    "for y in range(2,12):\n",
    "    driver.find_element_by_xpath(f'//*[@id=\"searchYearStart\"]/option[{y}]').click()\n",
    "    driver.find_element_by_xpath(f'//*[@id=\"searchYearEnd\"]/option[{y}]').click()\n",
    "    for m in range(1,13):\n",
    "        driver.find_element_by_xpath(f'//*[@id=\"searchMonthStart\"]/option[{m}]').click()        \n",
    "        driver.find_element_by_xpath(f'//*[@id=\"searchMonthEnd\"]/option[{m}]').click()\n",
    "        \n",
    "        # 검색버튼 클릭\n",
    "        driver.find_element_by_xpath('//*[@id=\"content_main\"]/div[2]/div[2]/div/div[1]/form/fieldset/div[2]/input[1]').click()\n",
    "        # 읍면동현황 클릭\n",
    "        driver.find_element_by_id('down3').click()\n",
    "        # CSV다운 클릭\n",
    "        driver.find_element_by_id('csvDown').click()\n",
    "        # 팝업창 닫기\n",
    "        Alert(driver).accept()\n",
    "        \n",
    "driver.close()\n",
    "\n",
    "import os\n",
    "path1 = 'C:/Users/tjoeun/Downloads'\n",
    "path2 = 'E:/BD_Class/BD_Class/Project/4차/연령별'\n",
    "years = [i for i in range(2011,2020)]\n",
    "months = [str(i).zfill(2) for i in range(1,13)]\n",
    "for year in years:\n",
    "    for month in months:\n",
    "        os.rename(path1+f'/{year}{month}_{year}{month}_연령별인구현황_월간.csv',path2+f'/연령별인구_{year}{month}.csv')\n"
   ]
  },
  {
   "cell_type": "code",
   "execution_count": 61,
   "metadata": {},
   "outputs": [],
   "source": [
    "import os\n",
    "path1 = 'C:/Users/tjoeun/Downloads'\n",
    "path2 = 'E:/BD_Class/BD_Class/Project/4차/연령별인구'\n",
    "years = [i for i in range(2011,2020)]\n",
    "months = [str(i).zfill(2) for i in range(1,13)]\n",
    "for year in years:\n",
    "    for month in months:\n",
    "        os.rename(path2+f'/{year}{month}_{year}{month}_연령별인구현황_월간.csv',path2+f'/연령별인구_{year}{month}.csv')"
   ]
  },
  {
   "cell_type": "code",
   "execution_count": 70,
   "metadata": {},
   "outputs": [],
   "source": [
    "years = [i for i in range(2011,2020)]\n",
    "months = [str(i).zfill(2) for i in range(1,13)]"
   ]
  },
  {
   "cell_type": "code",
   "execution_count": 83,
   "metadata": {},
   "outputs": [],
   "source": [
    "import pandas as pd\n",
    "import glob\n",
    "interesting_files = glob.glob(path2 + \"/*.csv\")\n",
    "df_list = []\n",
    "for filename in sorted(interesting_files):\n",
    "    df_list.append(pd.read_csv(filename, encoding='EUCKR'))\n",
    "full_df = pd.concat(df_list)\n"
   ]
  },
  {
   "cell_type": "code",
   "execution_count": 87,
   "metadata": {},
   "outputs": [],
   "source": [
    "full_df.to_csv('연령별인구.csv')"
   ]
  },
  {
   "cell_type": "code",
   "execution_count": 88,
   "metadata": {},
   "outputs": [
    {
     "data": {
      "text/plain": [
       "'E:\\\\BD_Class\\\\BD_Class\\\\Project\\\\4차'"
      ]
     },
     "execution_count": 88,
     "metadata": {},
     "output_type": "execute_result"
    }
   ],
   "source": [
    "pwd"
   ]
  },
  {
   "cell_type": "code",
   "execution_count": null,
   "metadata": {},
   "outputs": [],
   "source": []
  },
  {
   "cell_type": "code",
   "execution_count": null,
   "metadata": {},
   "outputs": [],
   "source": []
  },
  {
   "cell_type": "code",
   "execution_count": null,
   "metadata": {},
   "outputs": [],
   "source": []
  },
  {
   "cell_type": "code",
   "execution_count": null,
   "metadata": {},
   "outputs": [],
   "source": []
  }
 ],
 "metadata": {
  "kernelspec": {
   "display_name": "Python 3",
   "language": "python",
   "name": "python3"
  },
  "language_info": {
   "codemirror_mode": {
    "name": "ipython",
    "version": 3
   },
   "file_extension": ".py",
   "mimetype": "text/x-python",
   "name": "python",
   "nbconvert_exporter": "python",
   "pygments_lexer": "ipython3",
   "version": "3.7.6"
  }
 },
 "nbformat": 4,
 "nbformat_minor": 4
}
