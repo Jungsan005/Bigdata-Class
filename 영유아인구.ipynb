{
 "cells": [
  {
   "cell_type": "code",
   "execution_count": 29,
   "metadata": {},
   "outputs": [],
   "source": [
    "from selenium import webdriver\n",
    "from selenium.webdriver.common.keys import Keys\n",
    "from selenium.webdriver.remote.webelement import WebElement\n",
    "from selenium.webdriver import ActionChains\n",
    "from selenium.webdriver.common.alert import Alert\n",
    "import requests\n",
    "import time"
   ]
  },
  {
   "cell_type": "code",
   "execution_count": 30,
   "metadata": {},
   "outputs": [],
   "source": [
    "# 공공데이터 웹페이지 열기\n",
    "driver = webdriver.Chrome('./chromedriver')\n",
    "url = 'http://27.101.213.4/index.jsp#'\n",
    "driver.get(url)"
   ]
  },
  {
   "cell_type": "code",
   "execution_count": 31,
   "metadata": {},
   "outputs": [],
   "source": [
    "# 연령별 인구현황클릭\n",
    "driver.find_element_by_id('ageStat').click()"
   ]
  },
  {
   "cell_type": "code",
   "execution_count": 32,
   "metadata": {},
   "outputs": [
    {
     "name": "stderr",
     "output_type": "stream",
     "text": [
      "C:\\Python\\lib\\site-packages\\ipykernel_launcher.py:3: DeprecationWarning: use driver.switch_to.frame instead\n",
      "  This is separate from the ipykernel package so we can avoid doing imports until\n"
     ]
    }
   ],
   "source": [
    "# iframe 안으로 들어가기\n",
    "iframe = driver.find_element_by_id('totalFrame')\n",
    "driver.switch_to_frame(iframe)\n",
    "\n",
    "# 인구총계 설정빼기\n",
    "driver.find_element_by_id('sum').click()\n",
    "# 연령구분 단위 1세 클릭\n",
    "driver.find_element_by_xpath('//*[@id=\"sltArgTypes\"]/option[3]').click()\n",
    "# 만연령구분 범위 0~5세 클릭\n",
    "driver.find_element_by_xpath('//*[@id=\"sltArgTypeB\"]/option[6]').click()"
   ]
  },
  {
   "cell_type": "code",
   "execution_count": 33,
   "metadata": {},
   "outputs": [],
   "source": [
    "# 검색연도, 월 지정\n",
    "for y in range(2,12):\n",
    "    driver.find_element_by_xpath(f'//*[@id=\"searchYearStart\"]/option[{y}]').click()\n",
    "    driver.find_element_by_xpath(f'//*[@id=\"searchYearEnd\"]/option[{y}]').click()\n",
    "    for m in range(1,13):\n",
    "        driver.find_element_by_xpath(f'//*[@id=\"searchMonthStart\"]/option[{m}]').click()        \n",
    "        driver.find_element_by_xpath(f'//*[@id=\"searchMonthEnd\"]/option[{m}]').click()\n",
    "        \n",
    "        # 검색버튼 클릭\n",
    "        driver.find_element_by_xpath('//*[@id=\"content_main\"]/div[2]/div[2]/div/div[1]/form/fieldset/div[2]/input[1]').click()\n",
    "        # 읍면동현황 클릭\n",
    "        driver.find_element_by_id('down3').click()\n",
    "        # CSV다운 클릭\n",
    "        driver.find_element_by_id('csvDown').click()\n",
    "        # 팝업창 닫기\n",
    "        Alert(driver).accept()\n",
    "        \n",
    "driver.close()"
   ]
  },
  {
   "cell_type": "code",
   "execution_count": 32,
   "metadata": {
    "scrolled": false
   },
   "outputs": [
    {
     "name": "stdout",
     "output_type": "stream",
     "text": [
      "y\n",
      "y\n",
      "y\n",
      "y\n",
      "y\n",
      "y\n",
      "y\n",
      "y\n",
      "y\n",
      "y\n"
     ]
    },
    {
     "data": {
      "text/plain": [
       "11"
      ]
     },
     "execution_count": 32,
     "metadata": {},
     "output_type": "execute_result"
    }
   ],
   "source": [
    "# 왜 내꺼는 문자로 인식하지? 검은색으로 안변하네......ㅜㅜ\n",
    "# 사이트크롤링에서 가져온 코드.... 너 뭐냐\n",
    "\n",
    "for y in range(2,12):\n",
    "    driver.find_element_by_xpath('//*[@id=\"searchYearStart\"]/option[{y}]').click()\n",
    "    driver.find_element_by_xpath(f'//*[@id=\"contentsItem_list\"]/div[2]/div[1]/div/div/a[{i}]').click()\n",
    "\n",
    "    for m in range(1,13):\n",
    "        driver.find_element_by_xpath('//*[@id=\"searchMonthStart\"]/option[{m}]').click()\n"
   ]
  },
  {
   "cell_type": "code",
   "execution_count": null,
   "metadata": {},
   "outputs": [],
   "source": []
  },
  {
   "cell_type": "code",
   "execution_count": null,
   "metadata": {},
   "outputs": [],
   "source": []
  },
  {
   "cell_type": "code",
   "execution_count": null,
   "metadata": {},
   "outputs": [],
   "source": []
  },
  {
   "cell_type": "code",
   "execution_count": null,
   "metadata": {},
   "outputs": [],
   "source": []
  },
  {
   "cell_type": "code",
   "execution_count": null,
   "metadata": {},
   "outputs": [],
   "source": []
  },
  {
   "cell_type": "code",
   "execution_count": null,
   "metadata": {},
   "outputs": [],
   "source": []
  },
  {
   "cell_type": "code",
   "execution_count": null,
   "metadata": {},
   "outputs": [],
   "source": []
  },
  {
   "cell_type": "code",
   "execution_count": null,
   "metadata": {},
   "outputs": [],
   "source": []
  },
  {
   "cell_type": "code",
   "execution_count": null,
   "metadata": {},
   "outputs": [],
   "source": []
  },
  {
   "cell_type": "code",
   "execution_count": null,
   "metadata": {},
   "outputs": [],
   "source": []
  },
  {
   "cell_type": "code",
   "execution_count": null,
   "metadata": {},
   "outputs": [],
   "source": []
  },
  {
   "cell_type": "code",
   "execution_count": null,
   "metadata": {},
   "outputs": [],
   "source": []
  },
  {
   "cell_type": "code",
   "execution_count": null,
   "metadata": {},
   "outputs": [],
   "source": []
  },
  {
   "cell_type": "code",
   "execution_count": null,
   "metadata": {},
   "outputs": [],
   "source": []
  },
  {
   "cell_type": "code",
   "execution_count": null,
   "metadata": {},
   "outputs": [],
   "source": []
  },
  {
   "cell_type": "code",
   "execution_count": null,
   "metadata": {},
   "outputs": [],
   "source": []
  },
  {
   "cell_type": "code",
   "execution_count": null,
   "metadata": {},
   "outputs": [],
   "source": []
  },
  {
   "cell_type": "code",
   "execution_count": null,
   "metadata": {},
   "outputs": [],
   "source": []
  },
  {
   "cell_type": "code",
   "execution_count": null,
   "metadata": {},
   "outputs": [],
   "source": []
  },
  {
   "cell_type": "code",
   "execution_count": null,
   "metadata": {},
   "outputs": [],
   "source": []
  },
  {
   "cell_type": "code",
   "execution_count": null,
   "metadata": {},
   "outputs": [],
   "source": []
  },
  {
   "cell_type": "code",
   "execution_count": null,
   "metadata": {},
   "outputs": [],
   "source": []
  }
 ],
 "metadata": {
  "kernelspec": {
   "display_name": "Python 3",
   "language": "python",
   "name": "python3"
  },
  "language_info": {
   "codemirror_mode": {
    "name": "ipython",
    "version": 3
   },
   "file_extension": ".py",
   "mimetype": "text/x-python",
   "name": "python",
   "nbconvert_exporter": "python",
   "pygments_lexer": "ipython3",
   "version": "3.7.6"
  }
 },
 "nbformat": 4,
 "nbformat_minor": 4
}
