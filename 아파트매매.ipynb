{
  "nbformat": 4,
  "nbformat_minor": 0,
  "metadata": {
    "colab": {
      "name": "아파트매매_종로구.ipynb",
      "provenance": [],
      "authorship_tag": "ABX9TyN/daGqpysrNJRBe/5381MM",
      "include_colab_link": true
    },
    "kernelspec": {
      "name": "python3",
      "display_name": "Python 3"
    }
  },
  "cells": [
    {
      "cell_type": "markdown",
      "metadata": {
        "id": "view-in-github",
        "colab_type": "text"
      },
      "source": [
        "<a href=\"https://colab.research.google.com/github/Jungsan005/Bigdata-Class/blob/master/%EC%95%84%ED%8C%8C%ED%8A%B8%EB%A7%A4%EB%A7%A4.ipynb\" target=\"_parent\"><img src=\"https://colab.research.google.com/assets/colab-badge.svg\" alt=\"Open In Colab\"/></a>"
      ]
    },
    {
      "cell_type": "code",
      "metadata": {
        "id": "vwnu98hni93M",
        "colab_type": "code",
        "colab": {
          "base_uri": "https://localhost:8080/",
          "height": 35
        },
        "outputId": "b234feda-9bba-4960-ecb7-21f64e98bf25"
      },
      "source": [
        "# 1-1. 데이터 가져오기\n",
        "import requests\n",
        "import datetime\n",
        "\n",
        "url =\"http://openapi.molit.go.kr:8081/OpenAPI_ToolInstallPackage/service/rest/RTMSOBJSvc/getRTMSDataSvcAptRent?\"\n",
        "service_key = \"G4mFbypnd1vbyqajV%2B8CNMlgLri6mbVRPrTld3%2Bfxj7xhcRUlwYBbDCWZpJ9MZcJYbjdWK%2FZYgKen57sHxpw7A%3D%3D\"\n",
        "base_date = \"201001\" \n",
        "gu_code = '11000' ## 법정동 코드 5자리라면, 구 단위로 데이터를 확보하는 것. 11215 = 광진구\n",
        "\n",
        "payload = \"LAWD_CD=\" + gu_code + \"&\" + \\\n",
        "          \"DEAL_YMD=\" + base_date + \"&\" + \\\n",
        "          \"serviceKey=\" + service_key + \"&\" \n",
        "          \n",
        "res = requests.get(url + payload)\n",
        "print(res)"
      ],
      "execution_count": null,
      "outputs": [
        {
          "output_type": "stream",
          "text": [
            "<Response [200]>\n"
          ],
          "name": "stdout"
        }
      ]
    },
    {
      "cell_type": "code",
      "metadata": {
        "id": "TlYge063jSzn",
        "colab_type": "code",
        "colab": {
          "base_uri": "https://localhost:8080/",
          "height": 32
        },
        "outputId": "caeac0e3-3ef3-405a-83c3-5beec4bc4e3c"
      },
      "source": [
        "import xml.etree.ElementTree as ET\n",
        "import pandas as pd\n",
        "\n",
        "def get_items(response):\n",
        "    root = ET.fromstring(response.content)\n",
        "    item_list = []\n",
        "    for child in root.find('body').find('items'):\n",
        "        elements = child.findall('*')\n",
        "        data = {}\n",
        "        for element in elements:\n",
        "            tag = element.tag.strip()\n",
        "            text = element.text.strip()\n",
        "            # print tag, text\n",
        "            data[tag] = text\n",
        "        item_list.append(data)  \n",
        "    return item_list\n",
        "    \n",
        "items_list = get_items(res)\n",
        "items = pd.DataFrame(items_list) \n",
        "items.head()"
      ],
      "execution_count": null,
      "outputs": [
        {
          "output_type": "execute_result",
          "data": {
            "text/html": [
              "<div>\n",
              "<style scoped>\n",
              "    .dataframe tbody tr th:only-of-type {\n",
              "        vertical-align: middle;\n",
              "    }\n",
              "\n",
              "    .dataframe tbody tr th {\n",
              "        vertical-align: top;\n",
              "    }\n",
              "\n",
              "    .dataframe thead th {\n",
              "        text-align: right;\n",
              "    }\n",
              "</style>\n",
              "<table border=\"1\" class=\"dataframe\">\n",
              "  <thead>\n",
              "    <tr style=\"text-align: right;\">\n",
              "      <th></th>\n",
              "    </tr>\n",
              "  </thead>\n",
              "  <tbody>\n",
              "  </tbody>\n",
              "</table>\n",
              "</div>"
            ],
            "text/plain": [
              "Empty DataFrame\n",
              "Columns: []\n",
              "Index: []"
            ]
          },
          "metadata": {
            "tags": []
          },
          "execution_count": 12
        }
      ]
    },
    {
      "cell_type": "code",
      "metadata": {
        "id": "hrqv7FcijdF2",
        "colab_type": "code",
        "colab": {
          "base_uri": "https://localhost:8080/",
          "height": 419
        },
        "outputId": "af824e24-cdda-4d67-c032-5fbb7961cde5"
      },
      "source": [
        "code_file = \"https://raw.githubusercontent.com/Jungsan005/Bigdata-Class/master/datasets/%EB%B2%95%EC%A0%95%EB%8F%99%EC%BD%94%EB%93%9C%20%EC%A0%84%EC%B2%B4%EC%9E%90%EB%A3%8C.txt\"\n",
        "code = pd.read_csv(code_file, sep='\\t')\n",
        "code.columns = ['code', 'name', 'is_exist']\n",
        "code"
      ],
      "execution_count": null,
      "outputs": [
        {
          "output_type": "execute_result",
          "data": {
            "text/html": [
              "<div>\n",
              "<style scoped>\n",
              "    .dataframe tbody tr th:only-of-type {\n",
              "        vertical-align: middle;\n",
              "    }\n",
              "\n",
              "    .dataframe tbody tr th {\n",
              "        vertical-align: top;\n",
              "    }\n",
              "\n",
              "    .dataframe thead th {\n",
              "        text-align: right;\n",
              "    }\n",
              "</style>\n",
              "<table border=\"1\" class=\"dataframe\">\n",
              "  <thead>\n",
              "    <tr style=\"text-align: right;\">\n",
              "      <th></th>\n",
              "      <th>code</th>\n",
              "      <th>name</th>\n",
              "      <th>is_exist</th>\n",
              "    </tr>\n",
              "  </thead>\n",
              "  <tbody>\n",
              "    <tr>\n",
              "      <th>0</th>\n",
              "      <td>1100000000</td>\n",
              "      <td>서울특별시</td>\n",
              "      <td>존재</td>\n",
              "    </tr>\n",
              "    <tr>\n",
              "      <th>1</th>\n",
              "      <td>1111000000</td>\n",
              "      <td>서울특별시 종로구</td>\n",
              "      <td>존재</td>\n",
              "    </tr>\n",
              "    <tr>\n",
              "      <th>2</th>\n",
              "      <td>1111010100</td>\n",
              "      <td>서울특별시 종로구 청운동</td>\n",
              "      <td>존재</td>\n",
              "    </tr>\n",
              "    <tr>\n",
              "      <th>3</th>\n",
              "      <td>1111010200</td>\n",
              "      <td>서울특별시 종로구 신교동</td>\n",
              "      <td>존재</td>\n",
              "    </tr>\n",
              "    <tr>\n",
              "      <th>4</th>\n",
              "      <td>1111010300</td>\n",
              "      <td>서울특별시 종로구 궁정동</td>\n",
              "      <td>존재</td>\n",
              "    </tr>\n",
              "    <tr>\n",
              "      <th>...</th>\n",
              "      <td>...</td>\n",
              "      <td>...</td>\n",
              "      <td>...</td>\n",
              "    </tr>\n",
              "    <tr>\n",
              "      <th>46175</th>\n",
              "      <td>5013032022</td>\n",
              "      <td>제주특별자치도 서귀포시 표선면 하천리</td>\n",
              "      <td>존재</td>\n",
              "    </tr>\n",
              "    <tr>\n",
              "      <th>46176</th>\n",
              "      <td>5013032023</td>\n",
              "      <td>제주특별자치도 서귀포시 표선면 성읍리</td>\n",
              "      <td>존재</td>\n",
              "    </tr>\n",
              "    <tr>\n",
              "      <th>46177</th>\n",
              "      <td>5013032024</td>\n",
              "      <td>제주특별자치도 서귀포시 표선면 가시리</td>\n",
              "      <td>존재</td>\n",
              "    </tr>\n",
              "    <tr>\n",
              "      <th>46178</th>\n",
              "      <td>5013032025</td>\n",
              "      <td>제주특별자치도 서귀포시 표선면 세화리</td>\n",
              "      <td>존재</td>\n",
              "    </tr>\n",
              "    <tr>\n",
              "      <th>46179</th>\n",
              "      <td>5013032026</td>\n",
              "      <td>제주특별자치도 서귀포시 표선면 토산리</td>\n",
              "      <td>존재</td>\n",
              "    </tr>\n",
              "  </tbody>\n",
              "</table>\n",
              "<p>46180 rows × 3 columns</p>\n",
              "</div>"
            ],
            "text/plain": [
              "             code                  name is_exist\n",
              "0      1100000000                 서울특별시       존재\n",
              "1      1111000000             서울특별시 종로구       존재\n",
              "2      1111010100         서울특별시 종로구 청운동       존재\n",
              "3      1111010200         서울특별시 종로구 신교동       존재\n",
              "4      1111010300         서울특별시 종로구 궁정동       존재\n",
              "...           ...                   ...      ...\n",
              "46175  5013032022  제주특별자치도 서귀포시 표선면 하천리       존재\n",
              "46176  5013032023  제주특별자치도 서귀포시 표선면 성읍리       존재\n",
              "46177  5013032024  제주특별자치도 서귀포시 표선면 가시리       존재\n",
              "46178  5013032025  제주특별자치도 서귀포시 표선면 세화리       존재\n",
              "46179  5013032026  제주특별자치도 서귀포시 표선면 토산리       존재\n",
              "\n",
              "[46180 rows x 3 columns]"
            ]
          },
          "metadata": {
            "tags": []
          },
          "execution_count": 13
        }
      ]
    },
    {
      "cell_type": "code",
      "metadata": {
        "id": "tipMxv7SkP2u",
        "colab_type": "code",
        "colab": {
          "base_uri": "https://localhost:8080/",
          "height": 419
        },
        "outputId": "dd46fdae-a667-437a-c927-30801cd8c406"
      },
      "source": [
        "code = code [code['is_exist'] == '존재']\n",
        "code"
      ],
      "execution_count": null,
      "outputs": [
        {
          "output_type": "execute_result",
          "data": {
            "text/html": [
              "<div>\n",
              "<style scoped>\n",
              "    .dataframe tbody tr th:only-of-type {\n",
              "        vertical-align: middle;\n",
              "    }\n",
              "\n",
              "    .dataframe tbody tr th {\n",
              "        vertical-align: top;\n",
              "    }\n",
              "\n",
              "    .dataframe thead th {\n",
              "        text-align: right;\n",
              "    }\n",
              "</style>\n",
              "<table border=\"1\" class=\"dataframe\">\n",
              "  <thead>\n",
              "    <tr style=\"text-align: right;\">\n",
              "      <th></th>\n",
              "      <th>code</th>\n",
              "      <th>name</th>\n",
              "      <th>is_exist</th>\n",
              "    </tr>\n",
              "  </thead>\n",
              "  <tbody>\n",
              "    <tr>\n",
              "      <th>0</th>\n",
              "      <td>1100000000</td>\n",
              "      <td>서울특별시</td>\n",
              "      <td>존재</td>\n",
              "    </tr>\n",
              "    <tr>\n",
              "      <th>1</th>\n",
              "      <td>1111000000</td>\n",
              "      <td>서울특별시 종로구</td>\n",
              "      <td>존재</td>\n",
              "    </tr>\n",
              "    <tr>\n",
              "      <th>2</th>\n",
              "      <td>1111010100</td>\n",
              "      <td>서울특별시 종로구 청운동</td>\n",
              "      <td>존재</td>\n",
              "    </tr>\n",
              "    <tr>\n",
              "      <th>3</th>\n",
              "      <td>1111010200</td>\n",
              "      <td>서울특별시 종로구 신교동</td>\n",
              "      <td>존재</td>\n",
              "    </tr>\n",
              "    <tr>\n",
              "      <th>4</th>\n",
              "      <td>1111010300</td>\n",
              "      <td>서울특별시 종로구 궁정동</td>\n",
              "      <td>존재</td>\n",
              "    </tr>\n",
              "    <tr>\n",
              "      <th>...</th>\n",
              "      <td>...</td>\n",
              "      <td>...</td>\n",
              "      <td>...</td>\n",
              "    </tr>\n",
              "    <tr>\n",
              "      <th>46175</th>\n",
              "      <td>5013032022</td>\n",
              "      <td>제주특별자치도 서귀포시 표선면 하천리</td>\n",
              "      <td>존재</td>\n",
              "    </tr>\n",
              "    <tr>\n",
              "      <th>46176</th>\n",
              "      <td>5013032023</td>\n",
              "      <td>제주특별자치도 서귀포시 표선면 성읍리</td>\n",
              "      <td>존재</td>\n",
              "    </tr>\n",
              "    <tr>\n",
              "      <th>46177</th>\n",
              "      <td>5013032024</td>\n",
              "      <td>제주특별자치도 서귀포시 표선면 가시리</td>\n",
              "      <td>존재</td>\n",
              "    </tr>\n",
              "    <tr>\n",
              "      <th>46178</th>\n",
              "      <td>5013032025</td>\n",
              "      <td>제주특별자치도 서귀포시 표선면 세화리</td>\n",
              "      <td>존재</td>\n",
              "    </tr>\n",
              "    <tr>\n",
              "      <th>46179</th>\n",
              "      <td>5013032026</td>\n",
              "      <td>제주특별자치도 서귀포시 표선면 토산리</td>\n",
              "      <td>존재</td>\n",
              "    </tr>\n",
              "  </tbody>\n",
              "</table>\n",
              "<p>20544 rows × 3 columns</p>\n",
              "</div>"
            ],
            "text/plain": [
              "             code                  name is_exist\n",
              "0      1100000000                 서울특별시       존재\n",
              "1      1111000000             서울특별시 종로구       존재\n",
              "2      1111010100         서울특별시 종로구 청운동       존재\n",
              "3      1111010200         서울특별시 종로구 신교동       존재\n",
              "4      1111010300         서울특별시 종로구 궁정동       존재\n",
              "...           ...                   ...      ...\n",
              "46175  5013032022  제주특별자치도 서귀포시 표선면 하천리       존재\n",
              "46176  5013032023  제주특별자치도 서귀포시 표선면 성읍리       존재\n",
              "46177  5013032024  제주특별자치도 서귀포시 표선면 가시리       존재\n",
              "46178  5013032025  제주특별자치도 서귀포시 표선면 세화리       존재\n",
              "46179  5013032026  제주특별자치도 서귀포시 표선면 토산리       존재\n",
              "\n",
              "[20544 rows x 3 columns]"
            ]
          },
          "metadata": {
            "tags": []
          },
          "execution_count": 14
        }
      ]
    },
    {
      "cell_type": "code",
      "metadata": {
        "id": "O5Nbe9vvkXAW",
        "colab_type": "code",
        "colab": {
          "base_uri": "https://localhost:8080/",
          "height": 161
        },
        "outputId": "33bebe84-7a70-460f-f668-7b8b946a7165"
      },
      "source": [
        "print(code['code'][0])\n",
        "print(type(code['code'][0])) ## int64타입\n",
        "\n",
        "## string으로 변경\n",
        "code['code'] = code['code'].apply(str) "
      ],
      "execution_count": null,
      "outputs": [
        {
          "output_type": "stream",
          "text": [
            "1100000000\n",
            "<class 'numpy.int64'>\n"
          ],
          "name": "stdout"
        },
        {
          "output_type": "stream",
          "text": [
            "/usr/local/lib/python3.6/dist-packages/ipykernel_launcher.py:5: SettingWithCopyWarning: \n",
            "A value is trying to be set on a copy of a slice from a DataFrame.\n",
            "Try using .loc[row_indexer,col_indexer] = value instead\n",
            "\n",
            "See the caveats in the documentation: https://pandas.pydata.org/pandas-docs/stable/user_guide/indexing.html#returning-a-view-versus-a-copy\n",
            "  \"\"\"\n"
          ],
          "name": "stderr"
        }
      ]
    },
    {
      "cell_type": "code",
      "metadata": {
        "id": "QSS_MRClkdRO",
        "colab_type": "code",
        "colab": {}
      },
      "source": [
        "year = [str(\"%02d\" %(y)) for y in range(2010, 2020)]\n",
        "month = [str(\"%02d\" %(m)) for m in range(1, 13)]\n",
        "base_date_list = [\"%s%s\" %(y, m) for y in year for m in month ]"
      ],
      "execution_count": null,
      "outputs": []
    },
    {
      "cell_type": "code",
      "metadata": {
        "id": "O6_cdhOHkip-",
        "colab_type": "code",
        "colab": {
          "base_uri": "https://localhost:8080/",
          "height": 35
        },
        "outputId": "63aecc72-e771-489a-a5e0-2f14d25c9683"
      },
      "source": [
        "gu = \"강북구\"\n",
        "gu_code = code[ (code['name'].str.contains(gu) )]\n",
        "gu_code = gu_code['code'].reset_index(drop=True)\n",
        "gu_code = str(gu_code[0])[0:5]\n",
        "print(gu_code)"
      ],
      "execution_count": 49,
      "outputs": [
        {
          "output_type": "stream",
          "text": [
            "11305\n"
          ],
          "name": "stdout"
        }
      ]
    },
    {
      "cell_type": "code",
      "metadata": {
        "id": "hmxO7lVqksOm",
        "colab_type": "code",
        "colab": {}
      },
      "source": [
        "import requests\n",
        "import datetime\n",
        "\n",
        "def get_data(gu_code, base_date):\n",
        "    url =\"http://openapi.molit.go.kr:8081/OpenAPI_ToolInstallPackage/service/rest/RTMSOBJSvc/getRTMSDataSvcAptRent?\"\n",
        "    service_key = \"G4mFbypnd1vbyqajV%2B8CNMlgLri6mbVRPrTld3%2Bfxj7xhcRUlwYBbDCWZpJ9MZcJYbjdWK%2FZYgKen57sHxpw7A%3D%3D\"    \n",
        "    payload = \"LAWD_CD=\" + gu_code + \"&\" + \\\n",
        "              \"DEAL_YMD=\" + base_date + \"&\" + \\\n",
        "              \"serviceKey=\" + service_key + \"&\"\n",
        "\n",
        "    res = requests.get(url + payload)\n",
        "    \n",
        "    return res"
      ],
      "execution_count": 50,
      "outputs": []
    },
    {
      "cell_type": "code",
      "metadata": {
        "id": "BBP5iUyekx5t",
        "colab_type": "code",
        "colab": {
          "base_uri": "https://localhost:8080/",
          "height": 370
        },
        "outputId": "4a65cede-c2d6-4e56-dbe8-fe79d1870fbb"
      },
      "source": [
        "items_list = []\n",
        "for base_date in base_date_list:\n",
        "    res = get_data(gu_code, base_date)\n",
        "    items_list += get_items(res)\n",
        "    \n",
        "len(items_list)"
      ],
      "execution_count": 52,
      "outputs": [
        {
          "output_type": "error",
          "ename": "AttributeError",
          "evalue": "ignored",
          "traceback": [
            "\u001b[0;31m---------------------------------------------------------------------------\u001b[0m",
            "\u001b[0;31mAttributeError\u001b[0m                            Traceback (most recent call last)",
            "\u001b[0;32m<ipython-input-52-3e483210cd85>\u001b[0m in \u001b[0;36m<module>\u001b[0;34m()\u001b[0m\n\u001b[1;32m      2\u001b[0m \u001b[0;32mfor\u001b[0m \u001b[0mbase_date\u001b[0m \u001b[0;32min\u001b[0m \u001b[0mbase_date_list\u001b[0m\u001b[0;34m:\u001b[0m\u001b[0;34m\u001b[0m\u001b[0;34m\u001b[0m\u001b[0m\n\u001b[1;32m      3\u001b[0m     \u001b[0mres\u001b[0m \u001b[0;34m=\u001b[0m \u001b[0mget_data\u001b[0m\u001b[0;34m(\u001b[0m\u001b[0mgu_code\u001b[0m\u001b[0;34m,\u001b[0m \u001b[0mbase_date\u001b[0m\u001b[0;34m)\u001b[0m\u001b[0;34m\u001b[0m\u001b[0;34m\u001b[0m\u001b[0m\n\u001b[0;32m----> 4\u001b[0;31m     \u001b[0mitems_list\u001b[0m \u001b[0;34m+=\u001b[0m \u001b[0mget_items\u001b[0m\u001b[0;34m(\u001b[0m\u001b[0mres\u001b[0m\u001b[0;34m)\u001b[0m\u001b[0;34m\u001b[0m\u001b[0;34m\u001b[0m\u001b[0m\n\u001b[0m\u001b[1;32m      5\u001b[0m \u001b[0;34m\u001b[0m\u001b[0m\n\u001b[1;32m      6\u001b[0m \u001b[0mlen\u001b[0m\u001b[0;34m(\u001b[0m\u001b[0mitems_list\u001b[0m\u001b[0;34m)\u001b[0m\u001b[0;34m\u001b[0m\u001b[0;34m\u001b[0m\u001b[0m\n",
            "\u001b[0;32m<ipython-input-12-9237518e7cb2>\u001b[0m in \u001b[0;36mget_items\u001b[0;34m(response)\u001b[0m\n\u001b[1;32m      5\u001b[0m     \u001b[0mroot\u001b[0m \u001b[0;34m=\u001b[0m \u001b[0mET\u001b[0m\u001b[0;34m.\u001b[0m\u001b[0mfromstring\u001b[0m\u001b[0;34m(\u001b[0m\u001b[0mresponse\u001b[0m\u001b[0;34m.\u001b[0m\u001b[0mcontent\u001b[0m\u001b[0;34m)\u001b[0m\u001b[0;34m\u001b[0m\u001b[0;34m\u001b[0m\u001b[0m\n\u001b[1;32m      6\u001b[0m     \u001b[0mitem_list\u001b[0m \u001b[0;34m=\u001b[0m \u001b[0;34m[\u001b[0m\u001b[0;34m]\u001b[0m\u001b[0;34m\u001b[0m\u001b[0;34m\u001b[0m\u001b[0m\n\u001b[0;32m----> 7\u001b[0;31m     \u001b[0;32mfor\u001b[0m \u001b[0mchild\u001b[0m \u001b[0;32min\u001b[0m \u001b[0mroot\u001b[0m\u001b[0;34m.\u001b[0m\u001b[0mfind\u001b[0m\u001b[0;34m(\u001b[0m\u001b[0;34m'body'\u001b[0m\u001b[0;34m)\u001b[0m\u001b[0;34m.\u001b[0m\u001b[0mfind\u001b[0m\u001b[0;34m(\u001b[0m\u001b[0;34m'items'\u001b[0m\u001b[0;34m)\u001b[0m\u001b[0;34m:\u001b[0m\u001b[0;34m\u001b[0m\u001b[0;34m\u001b[0m\u001b[0m\n\u001b[0m\u001b[1;32m      8\u001b[0m         \u001b[0melements\u001b[0m \u001b[0;34m=\u001b[0m \u001b[0mchild\u001b[0m\u001b[0;34m.\u001b[0m\u001b[0mfindall\u001b[0m\u001b[0;34m(\u001b[0m\u001b[0;34m'*'\u001b[0m\u001b[0;34m)\u001b[0m\u001b[0;34m\u001b[0m\u001b[0;34m\u001b[0m\u001b[0m\n\u001b[1;32m      9\u001b[0m         \u001b[0mdata\u001b[0m \u001b[0;34m=\u001b[0m \u001b[0;34m{\u001b[0m\u001b[0;34m}\u001b[0m\u001b[0;34m\u001b[0m\u001b[0;34m\u001b[0m\u001b[0m\n",
            "\u001b[0;31mAttributeError\u001b[0m: 'NoneType' object has no attribute 'find'"
          ]
        }
      ]
    },
    {
      "cell_type": "code",
      "metadata": {
        "id": "q-PX2UY7k31G",
        "colab_type": "code",
        "colab": {}
      },
      "source": [
        "import os\n",
        "\n",
        "items = pd.DataFrame(items_list) \n",
        "items.head()\n",
        "items.to_csv(os.path.join(\"%s_%s~%s.csv\" %(gu, year[0], year[-1])), index=False,encoding=\"euc-kr\") "
      ],
      "execution_count": 48,
      "outputs": []
    },
    {
      "cell_type": "code",
      "metadata": {
        "id": "x9gTaICqnwN9",
        "colab_type": "code",
        "colab": {}
      },
      "source": [
        ""
      ],
      "execution_count": null,
      "outputs": []
    }
  ]
}