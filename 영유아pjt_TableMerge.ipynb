{
  "nbformat": 4,
  "nbformat_minor": 0,
  "metadata": {
    "colab": {
      "name": "영유아pjt_TableMerge.ipynb",
      "provenance": [],
      "authorship_tag": "ABX9TyMVD6zQAATOKBRzVOBrI3jL",
      "include_colab_link": true
    },
    "kernelspec": {
      "name": "python3",
      "display_name": "Python 3"
    }
  },
  "cells": [
    {
      "cell_type": "markdown",
      "metadata": {
        "id": "view-in-github",
        "colab_type": "text"
      },
      "source": [
        "<a href=\"https://colab.research.google.com/github/Jungsan005/Bigdata-Class/blob/master/%EC%98%81%EC%9C%A0%EC%95%84pjt_TableMerge.ipynb\" target=\"_parent\"><img src=\"https://colab.research.google.com/assets/colab-badge.svg\" alt=\"Open In Colab\"/></a>"
      ]
    },
    {
      "cell_type": "code",
      "metadata": {
        "id": "9JXViVKQVDTb"
      },
      "source": [
        "import pandas as pd\n",
        "import numpy as np"
      ],
      "execution_count": 268,
      "outputs": []
    },
    {
      "cell_type": "code",
      "metadata": {
        "id": "KekpmQDmUbFi"
      },
      "source": [
        "url_baby = 'https://raw.githubusercontent.com/Jungsan005/Bigdata-Class/master/datasets/pop_day.csv'\n",
        "url_capa = 'https://raw.githubusercontent.com/Jungsan005/Bigdata-Class/master/datasets/%EC%9C%A0%EC%B9%98%EC%9B%90db_pivot.csv'\n",
        "url_hprice = 'https://raw.githubusercontent.com/Jungsan005/Bigdata-Class/master/2010_2019%20%EC%84%9C%EC%9A%B8%EC%8B%9C%20%EB%B6%80%EB%8F%99%EC%82%B0%20%EB%A7%A4%EB%A7%A4%20%ED%8F%89%EB%8B%B9%EA%B0%80%EA%B2%A92.csv'\n",
        "url_hrent = 'https://raw.githubusercontent.com/Jungsan005/Bigdata-Class/master/datasets/%EC%A0%84%EC%9B%94%EC%84%B8%ED%8F%89%EB%8B%B9%EA%B8%88%EC%95%A1.csv'"
      ],
      "execution_count": 317,
      "outputs": []
    },
    {
      "cell_type": "code",
      "metadata": {
        "id": "jBbPsctnavM1"
      },
      "source": [
        "df_baby = pd.read_csv(url_baby)\n",
        "df_baby.index = df_baby['Unnamed: 0']\n",
        "df_baby = df_baby.drop('Unnamed: 0',axis=1)\n",
        "df_baby_1 = df_baby.stack(level=-1) # stack 화\n",
        "df_baby_2 = df_baby_1.apply(pd.Series) # series를 df로 변환\n",
        "df_baby_3 = df_baby_2.reset_index() # multi index 해제\n",
        "df_baby = df_baby_3\n",
        "df_baby.columns = ['date','gu','baby'] #raw 형태의 데이터 완성"
      ],
      "execution_count": 270,
      "outputs": []
    },
    {
      "cell_type": "code",
      "metadata": {
        "id": "QX4pYRel5dOZ",
        "outputId": "6836b873-cf34-4dcf-ebcc-6ff0f378f236",
        "colab": {
          "base_uri": "https://localhost:8080/",
          "height": 431
        }
      },
      "source": [
        "df_baby_2"
      ],
      "execution_count": 315,
      "outputs": [
        {
          "output_type": "execute_result",
          "data": {
            "text/html": [
              "<div>\n",
              "<style scoped>\n",
              "    .dataframe tbody tr th:only-of-type {\n",
              "        vertical-align: middle;\n",
              "    }\n",
              "\n",
              "    .dataframe tbody tr th {\n",
              "        vertical-align: top;\n",
              "    }\n",
              "\n",
              "    .dataframe thead th {\n",
              "        text-align: right;\n",
              "    }\n",
              "</style>\n",
              "<table border=\"1\" class=\"dataframe\">\n",
              "  <thead>\n",
              "    <tr style=\"text-align: right;\">\n",
              "      <th></th>\n",
              "      <th></th>\n",
              "      <th>0</th>\n",
              "    </tr>\n",
              "    <tr>\n",
              "      <th>Unnamed: 0</th>\n",
              "      <th></th>\n",
              "      <th></th>\n",
              "    </tr>\n",
              "  </thead>\n",
              "  <tbody>\n",
              "    <tr>\n",
              "      <th rowspan=\"5\" valign=\"top\">2010-01</th>\n",
              "      <th>종로구</th>\n",
              "      <td>6420.0</td>\n",
              "    </tr>\n",
              "    <tr>\n",
              "      <th>중구</th>\n",
              "      <td>5725.0</td>\n",
              "    </tr>\n",
              "    <tr>\n",
              "      <th>용산구</th>\n",
              "      <td>11797.0</td>\n",
              "    </tr>\n",
              "    <tr>\n",
              "      <th>성동구</th>\n",
              "      <td>16416.0</td>\n",
              "    </tr>\n",
              "    <tr>\n",
              "      <th>광진구</th>\n",
              "      <td>17564.0</td>\n",
              "    </tr>\n",
              "    <tr>\n",
              "      <th>...</th>\n",
              "      <th>...</th>\n",
              "      <td>...</td>\n",
              "    </tr>\n",
              "    <tr>\n",
              "      <th rowspan=\"5\" valign=\"top\">2019-12</th>\n",
              "      <th>관악구</th>\n",
              "      <td>14442.0</td>\n",
              "    </tr>\n",
              "    <tr>\n",
              "      <th>서초구</th>\n",
              "      <td>18455.0</td>\n",
              "    </tr>\n",
              "    <tr>\n",
              "      <th>강남구</th>\n",
              "      <td>19341.0</td>\n",
              "    </tr>\n",
              "    <tr>\n",
              "      <th>송파구</th>\n",
              "      <td>30111.0</td>\n",
              "    </tr>\n",
              "    <tr>\n",
              "      <th>강동구</th>\n",
              "      <td>18013.0</td>\n",
              "    </tr>\n",
              "  </tbody>\n",
              "</table>\n",
              "<p>3000 rows × 1 columns</p>\n",
              "</div>"
            ],
            "text/plain": [
              "                      0\n",
              "Unnamed: 0             \n",
              "2010-01    종로구   6420.0\n",
              "           중구    5725.0\n",
              "           용산구  11797.0\n",
              "           성동구  16416.0\n",
              "           광진구  17564.0\n",
              "...                 ...\n",
              "2019-12    관악구  14442.0\n",
              "           서초구  18455.0\n",
              "           강남구  19341.0\n",
              "           송파구  30111.0\n",
              "           강동구  18013.0\n",
              "\n",
              "[3000 rows x 1 columns]"
            ]
          },
          "metadata": {
            "tags": []
          },
          "execution_count": 315
        }
      ]
    },
    {
      "cell_type": "code",
      "metadata": {
        "id": "bVarPFkFkzdp"
      },
      "source": [
        "f_flt = pd.read_csv(url_capa, encoding = 'euc-kr',header=1)\n",
        "\n",
        "df_flt_cap = df_flt.iloc[1:,:26]\n",
        "df_flt_cap['date'] = df_flt_cap.sigungu.apply(lambda x : x[:7])\n",
        "df_flt_cap = df_flt_cap.drop('sigungu', axis=1)\n",
        "\n",
        "df_flt_cur = pd.read_csv(url_capa, encoding = 'euc-kr',header=1).iloc[1:,26:51]\n",
        "df_flt_cur['date'] = df_flt_cap['date']\n",
        "df_flt_ratio = pd.read_csv(url_capa, encoding = 'euc-kr',header=1).iloc[1:,51:]\n",
        "df_flt_ratio['date']  = df_flt_cap['date']\n",
        "\n",
        "df_flt_cur.columns = df_flt_cap.columns\n",
        "df_flt_ratio.columns = df_flt_cap.columns"
      ],
      "execution_count": 271,
      "outputs": []
    },
    {
      "cell_type": "code",
      "metadata": {
        "id": "BYPKZxGTh1u7"
      },
      "source": [
        "df_flt_cap.index = df_flt_cap['date']\n",
        "df_flt_cap = df_flt_cap.drop('date',axis=1)\n",
        "df_flt_cap = df_flt_cap.stack(level = -1)\n",
        "df_flt_cap = df_flt_cap.apply(pd.Series)\n",
        "df_flt_cap = df_flt_cap.reset_index()\n",
        "\n",
        "df_flt_cap.columns = ['date','gu','어린이집_정원']"
      ],
      "execution_count": 272,
      "outputs": []
    },
    {
      "cell_type": "code",
      "metadata": {
        "id": "uYSjIVSjpos0"
      },
      "source": [
        "df_flt_cur.index = df_flt_cur['date']\n",
        "df_flt_cur = df_flt_cur.drop('date',axis=1)\n",
        "df_flt_cur = df_flt_cur.stack(level = -1)\n",
        "df_flt_cur = df_flt_cur.apply(pd.Series)\n",
        "df_flt_cur = df_flt_cur.reset_index()\n",
        "\n",
        "df_flt_cur.columns = ['date','gu','어린이집_현원']"
      ],
      "execution_count": 273,
      "outputs": []
    },
    {
      "cell_type": "code",
      "metadata": {
        "id": "8ZViAshep_5D"
      },
      "source": [
        "df_flt_ratio.index = df_flt_ratio['date']\n",
        "df_flt_ratio = df_flt_ratio.drop('date',axis=1)\n",
        "df_flt_ratio = df_flt_ratio.stack(level = -1)\n",
        "df_flt_ratio = df_flt_ratio.apply(pd.Series)\n",
        "df_flt_ratio = df_flt_ratio.reset_index()\n",
        "\n",
        "df_flt_ratio.columns = ['date','gu','어린이집_정원률']"
      ],
      "execution_count": 274,
      "outputs": []
    },
    {
      "cell_type": "code",
      "metadata": {
        "id": "u611KjP4qKT5"
      },
      "source": [
        "df = pd.merge(df_baby,df_flt_ratio,how='inner',on=['date','gu'])\n",
        "df = pd.merge(df,df_flt_cur,how='inner',on=['date','gu'])\n",
        "df = pd.merge(df,df_flt_cap,how='inner',on=['date','gu'])"
      ],
      "execution_count": 275,
      "outputs": []
    },
    {
      "cell_type": "code",
      "metadata": {
        "id": "4vSkFDlZqV5Q",
        "outputId": "c2e7e229-179e-4c0e-bd59-83f5e8fe1740",
        "colab": {
          "base_uri": "https://localhost:8080/",
          "height": 402
        }
      },
      "source": [
        "df"
      ],
      "execution_count": 276,
      "outputs": [
        {
          "output_type": "execute_result",
          "data": {
            "text/html": [
              "<div>\n",
              "<style scoped>\n",
              "    .dataframe tbody tr th:only-of-type {\n",
              "        vertical-align: middle;\n",
              "    }\n",
              "\n",
              "    .dataframe tbody tr th {\n",
              "        vertical-align: top;\n",
              "    }\n",
              "\n",
              "    .dataframe thead th {\n",
              "        text-align: right;\n",
              "    }\n",
              "</style>\n",
              "<table border=\"1\" class=\"dataframe\">\n",
              "  <thead>\n",
              "    <tr style=\"text-align: right;\">\n",
              "      <th></th>\n",
              "      <th>date</th>\n",
              "      <th>gu</th>\n",
              "      <th>baby</th>\n",
              "      <th>어린이집_정원률</th>\n",
              "      <th>어린이집_현원</th>\n",
              "      <th>어린이집_정원</th>\n",
              "    </tr>\n",
              "  </thead>\n",
              "  <tbody>\n",
              "    <tr>\n",
              "      <th>0</th>\n",
              "      <td>2016-09</td>\n",
              "      <td>종로구</td>\n",
              "      <td>5225.0</td>\n",
              "      <td>0.793885</td>\n",
              "      <td>3921.0</td>\n",
              "      <td>4939.0</td>\n",
              "    </tr>\n",
              "    <tr>\n",
              "      <th>1</th>\n",
              "      <td>2016-09</td>\n",
              "      <td>중구</td>\n",
              "      <td>5126.0</td>\n",
              "      <td>0.842245</td>\n",
              "      <td>3481.0</td>\n",
              "      <td>4133.0</td>\n",
              "    </tr>\n",
              "    <tr>\n",
              "      <th>2</th>\n",
              "      <td>2016-09</td>\n",
              "      <td>용산구</td>\n",
              "      <td>10108.0</td>\n",
              "      <td>0.888597</td>\n",
              "      <td>4730.0</td>\n",
              "      <td>5323.0</td>\n",
              "    </tr>\n",
              "    <tr>\n",
              "      <th>3</th>\n",
              "      <td>2016-09</td>\n",
              "      <td>성동구</td>\n",
              "      <td>14735.0</td>\n",
              "      <td>0.865920</td>\n",
              "      <td>6962.0</td>\n",
              "      <td>8040.0</td>\n",
              "    </tr>\n",
              "    <tr>\n",
              "      <th>4</th>\n",
              "      <td>2016-09</td>\n",
              "      <td>광진구</td>\n",
              "      <td>15443.0</td>\n",
              "      <td>0.860475</td>\n",
              "      <td>7709.0</td>\n",
              "      <td>8959.0</td>\n",
              "    </tr>\n",
              "    <tr>\n",
              "      <th>...</th>\n",
              "      <td>...</td>\n",
              "      <td>...</td>\n",
              "      <td>...</td>\n",
              "      <td>...</td>\n",
              "      <td>...</td>\n",
              "      <td>...</td>\n",
              "    </tr>\n",
              "    <tr>\n",
              "      <th>995</th>\n",
              "      <td>2019-12</td>\n",
              "      <td>관악구</td>\n",
              "      <td>14442.0</td>\n",
              "      <td>0.825807</td>\n",
              "      <td>9107.0</td>\n",
              "      <td>11028.0</td>\n",
              "    </tr>\n",
              "    <tr>\n",
              "      <th>996</th>\n",
              "      <td>2019-12</td>\n",
              "      <td>서초구</td>\n",
              "      <td>18455.0</td>\n",
              "      <td>0.864407</td>\n",
              "      <td>8976.0</td>\n",
              "      <td>10384.0</td>\n",
              "    </tr>\n",
              "    <tr>\n",
              "      <th>997</th>\n",
              "      <td>2019-12</td>\n",
              "      <td>강남구</td>\n",
              "      <td>19341.0</td>\n",
              "      <td>0.825850</td>\n",
              "      <td>8958.0</td>\n",
              "      <td>10847.0</td>\n",
              "    </tr>\n",
              "    <tr>\n",
              "      <th>998</th>\n",
              "      <td>2019-12</td>\n",
              "      <td>송파구</td>\n",
              "      <td>30111.0</td>\n",
              "      <td>0.919213</td>\n",
              "      <td>15520.0</td>\n",
              "      <td>16884.0</td>\n",
              "    </tr>\n",
              "    <tr>\n",
              "      <th>999</th>\n",
              "      <td>2019-12</td>\n",
              "      <td>강동구</td>\n",
              "      <td>18013.0</td>\n",
              "      <td>0.883233</td>\n",
              "      <td>10809.0</td>\n",
              "      <td>12238.0</td>\n",
              "    </tr>\n",
              "  </tbody>\n",
              "</table>\n",
              "<p>1000 rows × 6 columns</p>\n",
              "</div>"
            ],
            "text/plain": [
              "        date   gu     baby  어린이집_정원률  어린이집_현원  어린이집_정원\n",
              "0    2016-09  종로구   5225.0  0.793885   3921.0   4939.0\n",
              "1    2016-09   중구   5126.0  0.842245   3481.0   4133.0\n",
              "2    2016-09  용산구  10108.0  0.888597   4730.0   5323.0\n",
              "3    2016-09  성동구  14735.0  0.865920   6962.0   8040.0\n",
              "4    2016-09  광진구  15443.0  0.860475   7709.0   8959.0\n",
              "..       ...  ...      ...       ...      ...      ...\n",
              "995  2019-12  관악구  14442.0  0.825807   9107.0  11028.0\n",
              "996  2019-12  서초구  18455.0  0.864407   8976.0  10384.0\n",
              "997  2019-12  강남구  19341.0  0.825850   8958.0  10847.0\n",
              "998  2019-12  송파구  30111.0  0.919213  15520.0  16884.0\n",
              "999  2019-12  강동구  18013.0  0.883233  10809.0  12238.0\n",
              "\n",
              "[1000 rows x 6 columns]"
            ]
          },
          "metadata": {
            "tags": []
          },
          "execution_count": 276
        }
      ]
    },
    {
      "cell_type": "code",
      "metadata": {
        "id": "h726OIYcwJQQ"
      },
      "source": [
        ""
      ],
      "execution_count": 276,
      "outputs": []
    },
    {
      "cell_type": "code",
      "metadata": {
        "id": "6tyoVQPRwKDw"
      },
      "source": [
        "df_hprice = pd.read_csv(url_hprice)\n",
        "df_hprice['date'] = df_hprice.year.apply(lambda x : str(x)) +'-' + df_hprice.month.apply(lambda x : str(x).zfill(2))\n",
        "\n",
        "df_hprice = df_hprice.drop(['year','month'],axis=1)\n",
        "df_hprice_A = df_hprice[df_hprice.kind == 1]\n",
        "df_hprice_A = df_hprice.drop('kind',axis=1)\n",
        "df_hprice_A.columns = ['gu',\t'평당매매/타입1',\t'date']\n",
        "\n",
        "df_hprice_A = df_hprice_A['평당매매/타입1'].groupby([df_hprice_A['gu'],df_hprice_A['date']]).mean().apply(pd.Series)\n",
        "df_hprice_A = df_hprice_A.reset_index()\n",
        "df_hprice_A.columns = ['gu','date',\t'평당매매/타입1']\n",
        "\n",
        "\n",
        "df_hprice_B = df_hprice[df_hprice.kind == 2]\n",
        "df_hprice_B = df_hprice.drop('kind',axis=1)\n",
        "df_hprice_B.columns = ['gu',\t'평당매매/타입2',\t'date']\n",
        "\n",
        "df_hprice_B = df_hprice_B['평당매매/타입2'].groupby([df_hprice_B['gu'],df_hprice_B['date']]).mean().apply(pd.Series)\n",
        "df_hprice_B = df_hprice_B.reset_index()\n",
        "df_hprice_B.columns = ['gu','date',\t'평당매매/타입2']\n",
        "\n",
        "df_hprice_C = df_hprice[df_hprice.kind == 3]\n",
        "df_hprice_C = df_hprice.drop('kind',axis=1)\n",
        "df_hprice_C.columns = ['gu',\t'평당매매/타입3',\t'date']\n",
        "\n",
        "df_hprice_C = df_hprice_C['평당매매/타입3'].groupby([df_hprice_C['gu'],df_hprice_C['date']]).mean().apply(pd.Series)\n",
        "df_hprice_C = df_hprice_C.reset_index()\n",
        "df_hprice_C.columns = ['gu','date',\t'평당매매/타입3']\n",
        "\n",
        "\n",
        "df_hprice_D = df_hprice[df_hprice.kind == 4]\n",
        "df_hprice_D = df_hprice.drop('kind',axis=1)\n",
        "df_hprice_D.columns = ['gu',\t'평당매매/타입4',\t'date']\n",
        "\n",
        "df_hprice_D = df_hprice_D['평당매매/타입4'].groupby([df_hprice_D['gu'],df_hprice_D['date']]).mean().apply(pd.Series)\n",
        "df_hprice_D = df_hprice_D.reset_index()\n",
        "df_hprice_D.columns = ['gu','date',\t'평당매매/타입4']"
      ],
      "execution_count": 306,
      "outputs": []
    },
    {
      "cell_type": "code",
      "metadata": {
        "id": "H7xejPRCySUJ"
      },
      "source": [
        "df = pd.merge(df,df_hprice_A,how='inner',on=['date','gu'])\n",
        "df = pd.merge(df,df_hprice_B,how='inner',on=['date','gu'])\n",
        "df = pd.merge(df,df_hprice_C,how='inner',on=['date','gu'])\n",
        "df = pd.merge(df,df_hprice_D,how='inner',on=['date','gu'])"
      ],
      "execution_count": 308,
      "outputs": []
    },
    {
      "cell_type": "code",
      "metadata": {
        "id": "UxxM7KWZy5Yp",
        "outputId": "646aae06-a313-4d12-f702-63bdc88d5447",
        "colab": {
          "base_uri": "https://localhost:8080/",
          "height": 774
        }
      },
      "source": [
        "df"
      ],
      "execution_count": 309,
      "outputs": [
        {
          "output_type": "execute_result",
          "data": {
            "text/html": [
              "<div>\n",
              "<style scoped>\n",
              "    .dataframe tbody tr th:only-of-type {\n",
              "        vertical-align: middle;\n",
              "    }\n",
              "\n",
              "    .dataframe tbody tr th {\n",
              "        vertical-align: top;\n",
              "    }\n",
              "\n",
              "    .dataframe thead th {\n",
              "        text-align: right;\n",
              "    }\n",
              "</style>\n",
              "<table border=\"1\" class=\"dataframe\">\n",
              "  <thead>\n",
              "    <tr style=\"text-align: right;\">\n",
              "      <th></th>\n",
              "      <th>date</th>\n",
              "      <th>gu</th>\n",
              "      <th>baby</th>\n",
              "      <th>어린이집_정원률</th>\n",
              "      <th>어린이집_현원</th>\n",
              "      <th>어린이집_정원</th>\n",
              "      <th>평당매매/타입1</th>\n",
              "      <th>평당매매/타입2</th>\n",
              "      <th>평당매매/타입3</th>\n",
              "      <th>평당매매/타입4</th>\n",
              "    </tr>\n",
              "  </thead>\n",
              "  <tbody>\n",
              "    <tr>\n",
              "      <th>0</th>\n",
              "      <td>2016-09</td>\n",
              "      <td>종로구</td>\n",
              "      <td>5225.0</td>\n",
              "      <td>0.793885</td>\n",
              "      <td>3921.0</td>\n",
              "      <td>4939.0</td>\n",
              "      <td>666.925</td>\n",
              "      <td>666.925</td>\n",
              "      <td>666.925</td>\n",
              "      <td>666.925</td>\n",
              "    </tr>\n",
              "    <tr>\n",
              "      <th>1</th>\n",
              "      <td>2016-09</td>\n",
              "      <td>중구</td>\n",
              "      <td>5126.0</td>\n",
              "      <td>0.842245</td>\n",
              "      <td>3481.0</td>\n",
              "      <td>4133.0</td>\n",
              "      <td>636.025</td>\n",
              "      <td>636.025</td>\n",
              "      <td>636.025</td>\n",
              "      <td>636.025</td>\n",
              "    </tr>\n",
              "    <tr>\n",
              "      <th>2</th>\n",
              "      <td>2016-09</td>\n",
              "      <td>용산구</td>\n",
              "      <td>10108.0</td>\n",
              "      <td>0.888597</td>\n",
              "      <td>4730.0</td>\n",
              "      <td>5323.0</td>\n",
              "      <td>829.275</td>\n",
              "      <td>829.275</td>\n",
              "      <td>829.275</td>\n",
              "      <td>829.275</td>\n",
              "    </tr>\n",
              "    <tr>\n",
              "      <th>3</th>\n",
              "      <td>2016-09</td>\n",
              "      <td>성동구</td>\n",
              "      <td>14735.0</td>\n",
              "      <td>0.865920</td>\n",
              "      <td>6962.0</td>\n",
              "      <td>8040.0</td>\n",
              "      <td>626.850</td>\n",
              "      <td>626.850</td>\n",
              "      <td>626.850</td>\n",
              "      <td>626.850</td>\n",
              "    </tr>\n",
              "    <tr>\n",
              "      <th>4</th>\n",
              "      <td>2016-09</td>\n",
              "      <td>광진구</td>\n",
              "      <td>15443.0</td>\n",
              "      <td>0.860475</td>\n",
              "      <td>7709.0</td>\n",
              "      <td>8959.0</td>\n",
              "      <td>592.500</td>\n",
              "      <td>592.500</td>\n",
              "      <td>592.500</td>\n",
              "      <td>592.500</td>\n",
              "    </tr>\n",
              "    <tr>\n",
              "      <th>...</th>\n",
              "      <td>...</td>\n",
              "      <td>...</td>\n",
              "      <td>...</td>\n",
              "      <td>...</td>\n",
              "      <td>...</td>\n",
              "      <td>...</td>\n",
              "      <td>...</td>\n",
              "      <td>...</td>\n",
              "      <td>...</td>\n",
              "      <td>...</td>\n",
              "    </tr>\n",
              "    <tr>\n",
              "      <th>995</th>\n",
              "      <td>2019-12</td>\n",
              "      <td>관악구</td>\n",
              "      <td>14442.0</td>\n",
              "      <td>0.825807</td>\n",
              "      <td>9107.0</td>\n",
              "      <td>11028.0</td>\n",
              "      <td>668.600</td>\n",
              "      <td>668.600</td>\n",
              "      <td>668.600</td>\n",
              "      <td>668.600</td>\n",
              "    </tr>\n",
              "    <tr>\n",
              "      <th>996</th>\n",
              "      <td>2019-12</td>\n",
              "      <td>서초구</td>\n",
              "      <td>18455.0</td>\n",
              "      <td>0.864407</td>\n",
              "      <td>8976.0</td>\n",
              "      <td>10384.0</td>\n",
              "      <td>1134.450</td>\n",
              "      <td>1134.450</td>\n",
              "      <td>1134.450</td>\n",
              "      <td>1134.450</td>\n",
              "    </tr>\n",
              "    <tr>\n",
              "      <th>997</th>\n",
              "      <td>2019-12</td>\n",
              "      <td>강남구</td>\n",
              "      <td>19341.0</td>\n",
              "      <td>0.825850</td>\n",
              "      <td>8958.0</td>\n",
              "      <td>10847.0</td>\n",
              "      <td>1291.675</td>\n",
              "      <td>1291.675</td>\n",
              "      <td>1291.675</td>\n",
              "      <td>1291.675</td>\n",
              "    </tr>\n",
              "    <tr>\n",
              "      <th>998</th>\n",
              "      <td>2019-12</td>\n",
              "      <td>송파구</td>\n",
              "      <td>30111.0</td>\n",
              "      <td>0.919213</td>\n",
              "      <td>15520.0</td>\n",
              "      <td>16884.0</td>\n",
              "      <td>899.875</td>\n",
              "      <td>899.875</td>\n",
              "      <td>899.875</td>\n",
              "      <td>899.875</td>\n",
              "    </tr>\n",
              "    <tr>\n",
              "      <th>999</th>\n",
              "      <td>2019-12</td>\n",
              "      <td>강동구</td>\n",
              "      <td>18013.0</td>\n",
              "      <td>0.883233</td>\n",
              "      <td>10809.0</td>\n",
              "      <td>12238.0</td>\n",
              "      <td>730.275</td>\n",
              "      <td>730.275</td>\n",
              "      <td>730.275</td>\n",
              "      <td>730.275</td>\n",
              "    </tr>\n",
              "  </tbody>\n",
              "</table>\n",
              "<p>1000 rows × 10 columns</p>\n",
              "</div>"
            ],
            "text/plain": [
              "        date   gu     baby  어린이집_정원률  ...  평당매매/타입1  평당매매/타입2  평당매매/타입3  평당매매/타입4\n",
              "0    2016-09  종로구   5225.0  0.793885  ...   666.925   666.925   666.925   666.925\n",
              "1    2016-09   중구   5126.0  0.842245  ...   636.025   636.025   636.025   636.025\n",
              "2    2016-09  용산구  10108.0  0.888597  ...   829.275   829.275   829.275   829.275\n",
              "3    2016-09  성동구  14735.0  0.865920  ...   626.850   626.850   626.850   626.850\n",
              "4    2016-09  광진구  15443.0  0.860475  ...   592.500   592.500   592.500   592.500\n",
              "..       ...  ...      ...       ...  ...       ...       ...       ...       ...\n",
              "995  2019-12  관악구  14442.0  0.825807  ...   668.600   668.600   668.600   668.600\n",
              "996  2019-12  서초구  18455.0  0.864407  ...  1134.450  1134.450  1134.450  1134.450\n",
              "997  2019-12  강남구  19341.0  0.825850  ...  1291.675  1291.675  1291.675  1291.675\n",
              "998  2019-12  송파구  30111.0  0.919213  ...   899.875   899.875   899.875   899.875\n",
              "999  2019-12  강동구  18013.0  0.883233  ...   730.275   730.275   730.275   730.275\n",
              "\n",
              "[1000 rows x 10 columns]"
            ]
          },
          "metadata": {
            "tags": []
          },
          "execution_count": 309
        }
      ]
    },
    {
      "cell_type": "code",
      "metadata": {
        "id": "LnFWHsqVy-sw"
      },
      "source": [
        "df_hrent = pd.read_csv(url_hrent,index_col=0)"
      ],
      "execution_count": 320,
      "outputs": []
    },
    {
      "cell_type": "code",
      "metadata": {
        "id": "KigI6Y_N2pdb"
      },
      "source": [
        "df = pd.merge(df,df_hrent,how='inner',on=['date','gu'])"
      ],
      "execution_count": 322,
      "outputs": []
    },
    {
      "cell_type": "code",
      "metadata": {
        "id": "4sPEt9fe8NWg"
      },
      "source": [
        "df.to_csv('itg_table.csv')"
      ],
      "execution_count": 323,
      "outputs": []
    },
    {
      "cell_type": "code",
      "metadata": {
        "id": "D1UzOO5-8kcU"
      },
      "source": [
        ""
      ],
      "execution_count": null,
      "outputs": []
    }
  ]
}